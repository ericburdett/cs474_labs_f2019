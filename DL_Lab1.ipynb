{
 "cells": [
  {
   "cell_type": "markdown",
   "metadata": {
    "colab_type": "text",
    "id": "view-in-github"
   },
   "source": [
    "<a href=\"https://colab.research.google.com/github/ericburdett/cs474_labs_f2019/blob/master/DL_Lab1.ipynb\" target=\"_parent\"><img src=\"https://colab.research.google.com/assets/colab-badge.svg\" alt=\"Open In Colab\"/></a>"
   ]
  },
  {
   "cell_type": "markdown",
   "metadata": {
    "colab_type": "text",
    "id": "bkj1_ftQtuBk"
   },
   "source": [
    "# Lab 1: Getting Started\n",
    "\n",
    "## Objective  \n",
    "Get started with colab and python. Begin producing simple visualizations of data and images.\n",
    "\n",
    "## Deliverable\n",
    "For this lab, you will submit a colab notebook via GitHub Classroom. This notebook consists of two parts.\n",
    "\n",
    "___\n",
    "\n",
    "### Grading\n",
    "Your notebook will be graded on the following:\n",
    "* 20% Successfully turning in a notebook with working code\n",
    "* 35% Random image with 50 random elements\n",
    "* 35% Image indicating tensorflow success\n",
    "* 10% Tidy and legible figures, (for the future make sure to label axes where appropriate)\n",
    "\n",
    "___\n",
    "\n",
    "### Details\n",
    "Throughout this class, we will be using Google's colab environment to \n",
    "develop and test our deep neural networks. \n",
    "This consists of ipython notebooks and a standardized python distribution. \n",
    "For this lab, you must create a google account (or use one you already have), \n",
    "start up colab, and write a simple python program in it.\n",
    "\n",
    "As described above, the notebook should do two things: \n",
    "1) generate simple random images, and \n",
    "2) display an image that you generate using the Tensorflow playground.\n",
    "\n",
    "For part 1, you can generate any sort of random image that you want – \n",
    "consider random lines, random curves, random text, etc. \n",
    "Each time the program is run, it should generate a different random image. \n",
    "Your image should have at least 50 random elements \n",
    "(they can all be the same type, such as random lines, and can be created in a loop). \n",
    "We won't count the number of elements; this is just to encourage you to create \n",
    "random images with moderate complexity (ie, you can't just generate randomly colored pixels, \n",
    "as in the example below).\n",
    "\n",
    "For part 2, you should visit the Tensorflow playground (see link above),\n",
    "and play with different settings. Most of it will be unfamiliar,\n",
    "but don't worry – you can't break it!\n",
    "\n",
    "Once you have a working classifier, take a screenshot. \n",
    "Then use your colab notebook to display that image in-line.\n",
    "___\n",
    "### Part 1\n",
    "\n",
    "Your notebook should generate a random image. We will run this notebook 5 times; it should generate 5 different, moderately complex images. Each image should be 512 x 288. Have fun with it!\n",
    "\n",
    "The resulting image could for example something like this:\n",
    "![](http://liftothers.org/dokuwiki/lib/exe/fetch.php?media=cs401r_w2016:lab1.png)\n",
    "\n",
    "**TODO:** // Here are the list of things to do for this part\n",
    "\n",
    "**DONE:** // Put items from the TODO list here when you are done with them (double click on the cell, cut and paste the line). This is for your benefit as well as the TAs to help with grading.\n",
    "\n",
    "* Generate random images that are 512 x 288"
   ]
  },
  {
   "cell_type": "code",
   "execution_count": 37,
   "metadata": {
    "colab": {
     "base_uri": "https://localhost:8080/",
     "height": 305
    },
    "colab_type": "code",
    "id": "CsWiFi74EneB",
    "outputId": "3d9df797-ab6b-44d1-98a1-addafd0b0864",
    "pycharm": {
     "is_executing": false
    }
   },
   "outputs": [
    {
     "data": {
      "image/png": "[encoded data removed]",
      "text/plain": [
       "<PIL.Image.Image image mode=RGB size=512x288 at 0x2288D6DA508>"
      ]
     },
     "metadata": {},
     "output_type": "display_data"
    }
   ],
   "source": [
    "import IPython.display\n",
    "import PIL.Image\n",
    "import numpy as np\n",
    "import random\n",
    "import cv2\n",
    "\n",
    "# A simple function to display an image in an ipython notebook\n",
    "def nbimage(data):\n",
    "    IPython.display.display(PIL.Image.fromarray(data))\n",
    "\n",
    "def randcolor():\n",
    "    return random.randint(0,255), random.randint(0,255), random.randint(0,255)\n",
    "# create an image consisting of random colors\n",
    "WORD_LIST = ['CS 474', 'Deep Learning', 'greetings', 'hi', 'hello', 'howdy', 'welcome', 'bonjour','buenas noches', 'buenos dias', 'good day', 'good morning', 'hey there', 'hi-ya', 'how are you', 'how goes it', 'howdy', 'howdy-do', 'shalom',' what\\'s up', 'what\\'s happening', 'life\\'s good']\n",
    "IMG_WIDTH = 288\n",
    "IMG_HEIGHT = 512\n",
    "\n",
    "data = np.zeros((IMG_WIDTH,IMG_HEIGHT,3)) # a 512x288 image, with 3 color channels (R,G,B)\n",
    "\n",
    "# Rectangles\n",
    "for x in range(20):\n",
    "    overlay = np.copy(data)\n",
    "    randFirstX = random.randint(0, IMG_HEIGHT)\n",
    "    randFirstY = random.randint(0, IMG_WIDTH)\n",
    "    randSecondX = random.randint(0, IMG_HEIGHT)\n",
    "    randSecondY = random.randint(0, IMG_WIDTH)\n",
    "    randFill = random.randint(0,10)\n",
    "    randAlpha = random.random()\n",
    "    cv2.rectangle(overlay, (randFirstX,randFirstY), (randSecondX, randSecondY), randColor(), randFill)\n",
    "    cv2.addWeighted(overlay, randAlpha, data, 1 - randAlpha, 1, data)\n",
    "\n",
    "# Circles\n",
    "for x in range(25):\n",
    "    overlay = np.copy(data)\n",
    "    randFirstX = random.randint(0, IMG_HEIGHT)\n",
    "    randFirstY = random.randint(0, IMG_WIDTH)\n",
    "    randRadius = random.randint(0,50)\n",
    "    randFill = random.randint(0,randRadius/2)\n",
    "    randAlpha = random.random()\n",
    "    cv2.circle(overlay, (randFirstX, randFirstY), randRadius, randColor(), randFill)\n",
    "    cv2.addWeighted(overlay, randAlpha, data, 1 - randAlpha, 1, data)\n",
    "\n",
    "# Text    \n",
    "for x in range(5):\n",
    "    overlay = np.copy(data)\n",
    "    randFirstX = random.randint(10, IMG_WIDTH/2)\n",
    "    randFirstY = random.randint(50, IMG_HEIGHT - 50)\n",
    "    randWordIndex = random.randint(0, len(WORD_LIST)-1)\n",
    "    randFill = random.randint(0,50)\n",
    "    randAlpha = random.random()\n",
    "    rotation = random.randint(-90,90)\n",
    "    cv2.putText(overlay, WORD_LIST[randWordIndex], (randFirstX, randFirstY), cv2.FONT_HERSHEY_PLAIN, 3, (255,255,255), 6, cv2.LINE_AA)\n",
    "    cv2.putText(overlay, WORD_LIST[randWordIndex], (randFirstX, randFirstY), cv2.FONT_HERSHEY_PLAIN, 3, randColor(), 3, cv2.LINE_AA)\n",
    "    cv2.rotate(overlay, rotation)\n",
    "    cv2.addWeighted(overlay, randAlpha, data, 1 - randAlpha, 1, data)\n",
    "    \n",
    "# cv2.circle(data, (200,200), 50, (150,250,59), -1)\n",
    "\n",
    "# by default, rand creates floating point numbers between [0,1].  We need to convert that to 8-bit bytes between [0,255]\n",
    "data = (255*data).astype(np.uint8)\n",
    "\n",
    "# display it!\n",
    "nbimage(data)"
   ]
  },
  {
   "cell_type": "markdown",
   "metadata": {
    "colab_type": "text",
    "id": "fM3h46ZAucnV"
   },
   "source": [
    "\n",
    "___\n",
    "\n",
    "### Part 2\n",
    "\n",
    "You must play with the Tensorflow playground neural network, and figure out how to create a classifier that successfully classifies the “spiral” dataset.\n",
    "\n",
    "\n",
    "[Tensorflow playground](http://playground.tensorflow.org/)\n",
    "\n",
    "[Google colab](http://colab.research.google.com/) The site where you will probably be coding the labs\n",
    "\n",
    "[A colab notebook teaching you how to use colab notebooks](https://colab.research.google.com/drive/1TzaPS3jvRadN-URLbQ9nD1ZNoZktfNRy)\n",
    "\n",
    "[Various colab tutorials](https://sites.google.com/site/artml2018/tutorials)\n",
    "\n",
    "**TODO:**\n",
    "\n",
    "**DONE:**\n",
    "\n",
    "* Create a classifier that successfully classifies the \"spiral\" dataset\n",
    "* Display the image below"
   ]
  },
  {
   "cell_type": "markdown",
   "metadata": {
    "colab_type": "text",
    "id": "jBNhAh2hTMfi"
   },
   "source": [
    "[Spiral Classification Image](https://github.com/ericburdett/cs474_labs_f2019/blob/master/pictures/DL_Spiral_Classifier.PNG)"
   ]
  },
  {
   "cell_type": "code",
   "execution_count": null,
   "metadata": {},
   "outputs": [],
   "source": []
  }
 ],
 "metadata": {
  "colab": {
   "collapsed_sections": [],
   "include_colab_link": true,
   "name": "DL_Lab1.ipynb",
   "provenance": [],
   "version": "0.3.2"
  },
  "kernelspec": {
   "display_name": "Python 3",
   "language": "python",
   "name": "python3"
  },
  "language_info": {
   "codemirror_mode": {
    "name": "ipython",
    "version": 3
   },
   "file_extension": ".py",
   "mimetype": "text/x-python",
   "name": "python",
   "nbconvert_exporter": "python",
   "pygments_lexer": "ipython3",
   "version": "3.7.4"
  },
  "pycharm": {
   "stem_cell": {
    "cell_type": "raw",
    "source": [],
    "metadata": {
     "collapsed": false
    }
   }
  }
 },
 "nbformat": 4,
 "nbformat_minor": 1
}