{
  "nbformat": 4,
  "nbformat_minor": 0,
  "metadata": {
    "accelerator": "GPU",
    "colab": {
      "name": "DL_Lab4.ipynb",
      "provenance": [],
      "collapsed_sections": [],
      "include_colab_link": true
    },
    "kernelspec": {
      "display_name": "Python 3",
      "language": "python",
      "name": "python3"
    },
    "language_info": {
      "codemirror_mode": {
        "name": "ipython",
        "version": 3
      },
      "file_extension": ".py",
      "mimetype": "text/x-python",
      "name": "python",
      "nbconvert_exporter": "python",
      "pygments_lexer": "ipython3",
      "version": "3.6.3"
    },
    "pycharm": {
      "stem_cell": {
        "cell_type": "raw",
        "source": [],
        "metadata": {
          "collapsed": false
        }
      }
    }
  },
  "cells": [
    {
      "cell_type": "markdown",
      "metadata": {
        "id": "view-in-github",
        "colab_type": "text"
      },
      "source": [
        "<a href=\"https://colab.research.google.com/github/ericburdett/cs474_labs_f2019/blob/master/DL_Lab4.ipynb\" target=\"_parent\"><img src=\"https://colab.research.google.com/assets/colab-badge.svg\" alt=\"Open In Colab\"/></a>"
      ]
    },
    {
      "cell_type": "markdown",
      "metadata": {
        "id": "6LjLT357VGND",
        "colab_type": "text"
      },
      "source": [
        "<a href=\"https://colab.research.google.com/github/ericburdett/cs474_labs_f2019/blob/master/DL_Lab4.ipynb\" target=\"_parent\"><img src=\"https://colab.research.google.com/assets/colab-badge.svg\" alt=\"Open In Colab\"/></a>"
      ]
    },
    {
      "cell_type": "markdown",
      "metadata": {
        "colab_type": "text",
        "id": "view-in-github"
      },
      "source": [
        "# Lab 4: Cancer Detection\n",
        "\n",
        "## Objective\n",
        "* To build a dense prediction model\n",
        "* To begin reading current papers in DNN research\n",
        "\n",
        "## Deliverable\n",
        "For this lab, you will turn in a notebook that describes your efforts at creating\n",
        "a pytorch radiologist. Your final deliverable is a notebook that has (1) deep network,\n",
        "(2) cost function, (3) method of calculating accuracy,\n",
        "(4) an image that shows the dense prediction produced by your network on the pos_test_000072.png image.\n",
        "This is an image in the test set that your network will not have seen before.\n",
        "This image, and the ground truth labeling, is shown below.\n",
        "(And is contained in the downloadable dataset below).\n",
        "\n",
        "![](http://liftothers.org/dokuwiki/lib/exe/fetch.php?w=200&tok=a8ac31&media=cs501r_f2016:pos_test_000072_output.png)\n",
        "<img src=\"http://liftothers.org/dokuwiki/lib/exe/fetch.php?media=cs501r_f2016:pos_test_000072.png\" width=\"200\">\n",
        "\n",
        "\n",
        "## Grading standards\n",
        "Your notebook will be graded on the following:\n",
        "* 40% Proper design, creation and debugging of a dense prediction network\n",
        "* 40% Proper implementation of a loss function and train/test set accuracy measure\n",
        "* 10% Tidy visualizations of loss of your dense predictor during training\n",
        "* 10% Test image output\n",
        "\n",
        "\n",
        "## Data set\n",
        "The data is given as a set of 1024×1024 PNG images. Each input image (in \n",
        "the ```inputs``` directory) is an RGB image of a section of tissue,\n",
        "and there a file with the same name (in the ```outputs``` directory) \n",
        "that has a dense labeling of whether or not a section of tissue is cancerous\n",
        "(white pixels mean “cancerous”, while black pixels mean “not cancerous”).\n",
        "\n",
        "The data has been pre-split for you into test and training splits.\n",
        "Filenames also reflect whether or not the image has any cancer at all \n",
        "(files starting with ```pos_``` have some cancerous pixels, while files \n",
        "starting with ```neg_``` have no cancer anywhere).\n",
        "All of the data is hand-labeled, so the dataset is not very large.\n",
        "That means that overfitting is a real possibility.\n",
        "\n",
        "## Description\n",
        "For a video including some tips and tricks that can help with this lab: [https://youtu.be/Ms19kgK_D8w](https://youtu.be/Ms19kgK_D8w)\n",
        "For this lab, you will implement a virtual radiologist.\n",
        "You are given images of possibly cancerous tissue samples, \n",
        "and you must build a detector that identifies where in the tissue cancer may reside.\n",
        "\n",
        "---\n",
        "\n",
        "### Part 0\n",
        "Watch and follow video tutorial:\n",
        "\n",
        "https://youtu.be/Ms19kgK_D8w\n",
        "\n",
        "**TODO:**\n",
        "\n",
        "**DONE:**\n",
        "* Watch tutorial\n",
        "\n",
        "### Part 1\n",
        "Implement a dense predictor\n",
        "\n",
        "In previous labs and lectures, we have talked about DNNs that classify an \n",
        "entire image as a single class. Here, however, we are interested in a more nuanced classification: \n",
        "given an input image, we would like to identify each pixel that is possibly cancerous. \n",
        "That means that instead of a single output, your network should output an “image”, \n",
        "where each output pixel of your network represents the probability that a pixel is cancerous.\n",
        "\n",
        "**TODO:**\n",
        "\n",
        "* Create a Network that classifies each pixel as a 1 or 0 for cancerous / not cancerous\n",
        "\n",
        "**DONE:**\n",
        "\n",
        "___\n",
        "\n",
        "### Part 1a\n",
        "Implement your network topology\n",
        "\n",
        "\n",
        "Use the “Deep Convolution U-Net” from this paper: [(U-Net: Convolutional Networks for Biomedical Image Segmentation)](https://arxiv.org/pdf/1505.04597.pdf) \n",
        "\n",
        "![(Figure 1)](https://lh3.googleusercontent.com/qnHiB3B2KRxC3NjiSDtY08_DgDGTDsHcO6PP53oNRuct-p2QXCR-gyLkDveO850F2tTAhIOPC5Ha06NP9xq1JPsVAHlQ5UXA5V-9zkUrJHGhP_MNHFoRGnjBz1vn1p8P2rMWhlAb6HQ=w2400)\n",
        "\n",
        "You should use existing pytorch functions (not your own Conv2D module), such as ```nn.Conv2d```;\n",
        "you will also need the pytorch function ```torch.cat``` and ```nn.ConvTranspose2d```\n",
        "\n",
        "```torch.cat``` allows you to concatenate tensors.\n",
        "```nn.ConvTranspose2d``` is the opposite of ```nn.Conv2d```.\n",
        "It is used to bring an image from low res to higher res.\n",
        "[This blog](https://towardsdatascience.com/up-sampling-with-transposed-convolution-9ae4f2df52d0) should help you understand this function in detail.\n",
        "\n",
        "Note that the simplest network you could implement (with all the desired properties)\n",
        "is just a single convolution layer with two filters and no relu! \n",
        "Why is that? (of course it wouldn't work very well!)\n",
        "\n",
        "**TODO:**\n",
        "\n",
        "* Understand the U-Net architecture\n",
        "* Understand concatenation of inputs from multiple prior layers\n",
        "* Understand ConvTranspose\n",
        "* Answer Question / Reflect on simplest network with the desired properties\n",
        "\n",
        "**DONE:**\n",
        "\n",
        "\n",
        "___\n",
        "The intention of this lab is to learn how to make deep neural nets and implement loss function.\n",
        "Therefore we'll help you with the implementation of Dataset.\n",
        "This code will download the dataset for you so that you are ready to use it and focus on network\n",
        "implementation, losses and accuracies."
      ]
    },
    {
      "cell_type": "code",
      "metadata": {
        "colab_type": "code",
        "id": "wQOefmcZVgTl",
        "pycharm": {
          "is_executing": false
        },
        "outputId": "6340d2ff-8669-4cb3-f642-99e3c7095d3a",
        "colab": {
          "base_uri": "https://localhost:8080/",
          "height": 170
        }
      },
      "source": [
        "!pip3 install torch\n",
        "!pip3 install torchvision\n",
        "!pip3 install tqdm\n",
        "\n",
        "import torch\n",
        "import torch.nn as nn\n",
        "import torch.nn.functional as F\n",
        "import torch.optim as optim\n",
        "from torch.utils.data import Dataset, DataLoader\n",
        "import numpy as np\n",
        "import matplotlib.pyplot as plt\n",
        "from torchvision import transforms, utils, datasets\n",
        "from tqdm import tqdm\n",
        "from torch.nn.parameter import Parameter\n",
        "import pdb\n",
        "import torchvision\n",
        "import os\n",
        "import gzip\n",
        "import tarfile\n",
        "import gc\n",
        "from IPython.core.ultratb import AutoFormattedTB\n",
        "__ITB__ = AutoFormattedTB(mode = 'Verbose',color_scheme='LightBg', tb_offset = 1)\n",
        "\n",
        "assert torch.cuda.is_available(), \"You need to request a GPU from Runtime > Change Runtime\""
      ],
      "execution_count": 1,
      "outputs": [
        {
          "output_type": "stream",
          "text": [
            "Requirement already satisfied: torch in /usr/local/lib/python3.6/dist-packages (1.1.0)\n",
            "Requirement already satisfied: numpy in /usr/local/lib/python3.6/dist-packages (from torch) (1.16.5)\n",
            "Requirement already satisfied: torchvision in /usr/local/lib/python3.6/dist-packages (0.3.0)\n",
            "Requirement already satisfied: pillow>=4.1.1 in /usr/local/lib/python3.6/dist-packages (from torchvision) (4.3.0)\n",
            "Requirement already satisfied: torch>=1.1.0 in /usr/local/lib/python3.6/dist-packages (from torchvision) (1.1.0)\n",
            "Requirement already satisfied: six in /usr/local/lib/python3.6/dist-packages (from torchvision) (1.12.0)\n",
            "Requirement already satisfied: numpy in /usr/local/lib/python3.6/dist-packages (from torchvision) (1.16.5)\n",
            "Requirement already satisfied: olefile in /usr/local/lib/python3.6/dist-packages (from pillow>=4.1.1->torchvision) (0.46)\n",
            "Requirement already satisfied: tqdm in /usr/local/lib/python3.6/dist-packages (4.28.1)\n"
          ],
          "name": "stdout"
        }
      ]
    },
    {
      "cell_type": "code",
      "metadata": {
        "colab_type": "code",
        "id": "Il_53HLSWPTY",
        "colab": {}
      },
      "source": [
        "class CancerDataset(Dataset):\n",
        "  def __init__(self, root, download=True, size=512, train=True):\n",
        "    if download and not os.path.exists(os.path.join(root, 'cancer_data')):\n",
        "      datasets.utils.download_url('http://liftothers.org/cancer_data.tar.gz', root, 'cancer_data.tar.gz', None)\n",
        "      self.extract_gzip(os.path.join(root, 'cancer_data.tar.gz'))\n",
        "      self.extract_tar(os.path.join(root, 'cancer_data.tar'))\n",
        "    \n",
        "    postfix = 'train' if train else 'test'\n",
        "    root = os.path.join(root, 'cancer_data', 'cancer_data')\n",
        "    self.dataset_folder = torchvision.datasets.ImageFolder(os.path.join(root, 'inputs_' + postfix) ,transform = transforms.Compose([transforms.Resize(size),transforms.ToTensor()]))\n",
        "    self.label_folder = torchvision.datasets.ImageFolder(os.path.join(root, 'outputs_' + postfix) ,transform = transforms.Compose([transforms.Resize(size),transforms.ToTensor()]))\n",
        "\n",
        "  @staticmethod\n",
        "  def extract_gzip(gzip_path, remove_finished=False):\n",
        "    print('Extracting {}'.format(gzip_path))\n",
        "    with open(gzip_path.replace('.gz', ''), 'wb') as out_f, gzip.GzipFile(gzip_path) as zip_f:\n",
        "      out_f.write(zip_f.read())\n",
        "    if remove_finished:\n",
        "      os.unlink(gzip_path)\n",
        "  \n",
        "  @staticmethod\n",
        "  def extract_tar(tar_path):\n",
        "    print('Untarring {}'.format(tar_path))\n",
        "    z = tarfile.TarFile(tar_path)\n",
        "    z.extractall(tar_path.replace('.tar', ''))\n",
        "\n",
        "  def __getitem__(self,index):\n",
        "    img = self.dataset_folder[index]\n",
        "    label = self.label_folder[index]\n",
        "    return img[0],label[0][0]\n",
        "  \n",
        "  def __len__(self):\n",
        "    return len(self.dataset_folder)"
      ],
      "execution_count": 0,
      "outputs": []
    },
    {
      "cell_type": "code",
      "metadata": {
        "id": "zSovbvhAMfeB",
        "colab_type": "code",
        "outputId": "58e98f2c-f3e7-4ef2-dccf-504eae95e3ff",
        "colab": {
          "base_uri": "https://localhost:8080/",
          "height": 68
        }
      },
      "source": [
        "data = CancerDataset('/tmp/cancer_data')"
      ],
      "execution_count": 6,
      "outputs": [
        {
          "output_type": "stream",
          "text": [
            "\r0it [00:00, ?it/s]"
          ],
          "name": "stderr"
        },
        {
          "output_type": "stream",
          "text": [
            "Downloading http://liftothers.org/cancer_data.tar.gz to /tmp/cancer_data/cancer_data.tar.gz\n"
          ],
          "name": "stdout"
        },
        {
          "output_type": "stream",
          "text": [
            "100%|█████████▉| 2749825024/2750494655 [01:35<00:00, 28383305.83it/s]"
          ],
          "name": "stderr"
        },
        {
          "output_type": "stream",
          "text": [
            "Extracting /tmp/cancer_data/cancer_data.tar.gz\n"
          ],
          "name": "stdout"
        },
        {
          "output_type": "stream",
          "text": [
            "\r2750496768it [01:50, 28383305.83it/s]                                "
          ],
          "name": "stderr"
        },
        {
          "output_type": "stream",
          "text": [
            "Untarring /tmp/cancer_data/cancer_data.tar\n"
          ],
          "name": "stdout"
        }
      ]
    },
    {
      "cell_type": "code",
      "metadata": {
        "id": "0WVIbOlwzM_B",
        "colab_type": "code",
        "colab": {
          "base_uri": "https://localhost:8080/",
          "height": 357
        },
        "outputId": "0c260b69-eb74-409d-9c9f-1f5f97eceacc"
      },
      "source": [
        ""
      ],
      "execution_count": 62,
      "outputs": [
        {
          "output_type": "error",
          "ename": "TypeError",
          "evalue": "ignored",
          "traceback": [
            "\u001b[0;31m---------------------------------------------------------------------------\u001b[0m",
            "\u001b[0;31mTypeError\u001b[0m                                 Traceback (most recent call last)",
            "\u001b[0;32m<ipython-input-62-6afff3f1686d>\u001b[0m in \u001b[0;36m<module>\u001b[0;34m()\u001b[0m\n\u001b[1;32m      1\u001b[0m \u001b[0mo1\u001b[0m \u001b[0;34m=\u001b[0m \u001b[0mdata\u001b[0m\u001b[0;34m[\u001b[0m\u001b[0;36m0\u001b[0m\u001b[0;34m]\u001b[0m\u001b[0;34m\u001b[0m\u001b[0;34m\u001b[0m\u001b[0m\n\u001b[1;32m      2\u001b[0m \u001b[0mt\u001b[0m \u001b[0;34m=\u001b[0m \u001b[0mnn\u001b[0m\u001b[0;34m.\u001b[0m\u001b[0mConv2d\u001b[0m\u001b[0;34m(\u001b[0m\u001b[0;36m3\u001b[0m\u001b[0;34m,\u001b[0m \u001b[0;36m10\u001b[0m\u001b[0;34m,\u001b[0m \u001b[0;36m3\u001b[0m\u001b[0;34m)\u001b[0m\u001b[0;34m\u001b[0m\u001b[0;34m\u001b[0m\u001b[0m\n\u001b[0;32m----> 3\u001b[0;31m \u001b[0mo2\u001b[0m \u001b[0;34m=\u001b[0m \u001b[0mt\u001b[0m\u001b[0;34m(\u001b[0m\u001b[0mo1\u001b[0m\u001b[0;34m)\u001b[0m\u001b[0;34m\u001b[0m\u001b[0;34m\u001b[0m\u001b[0m\n\u001b[0m\u001b[1;32m      4\u001b[0m \u001b[0mo2\u001b[0m\u001b[0;34m\u001b[0m\u001b[0;34m\u001b[0m\u001b[0m\n",
            "\u001b[0;32m/usr/local/lib/python3.6/dist-packages/torch/nn/modules/module.py\u001b[0m in \u001b[0;36m__call__\u001b[0;34m(self, *input, **kwargs)\u001b[0m\n\u001b[1;32m    491\u001b[0m             \u001b[0mresult\u001b[0m \u001b[0;34m=\u001b[0m \u001b[0mself\u001b[0m\u001b[0;34m.\u001b[0m\u001b[0m_slow_forward\u001b[0m\u001b[0;34m(\u001b[0m\u001b[0;34m*\u001b[0m\u001b[0minput\u001b[0m\u001b[0;34m,\u001b[0m \u001b[0;34m**\u001b[0m\u001b[0mkwargs\u001b[0m\u001b[0;34m)\u001b[0m\u001b[0;34m\u001b[0m\u001b[0;34m\u001b[0m\u001b[0m\n\u001b[1;32m    492\u001b[0m         \u001b[0;32melse\u001b[0m\u001b[0;34m:\u001b[0m\u001b[0;34m\u001b[0m\u001b[0;34m\u001b[0m\u001b[0m\n\u001b[0;32m--> 493\u001b[0;31m             \u001b[0mresult\u001b[0m \u001b[0;34m=\u001b[0m \u001b[0mself\u001b[0m\u001b[0;34m.\u001b[0m\u001b[0mforward\u001b[0m\u001b[0;34m(\u001b[0m\u001b[0;34m*\u001b[0m\u001b[0minput\u001b[0m\u001b[0;34m,\u001b[0m \u001b[0;34m**\u001b[0m\u001b[0mkwargs\u001b[0m\u001b[0;34m)\u001b[0m\u001b[0;34m\u001b[0m\u001b[0;34m\u001b[0m\u001b[0m\n\u001b[0m\u001b[1;32m    494\u001b[0m         \u001b[0;32mfor\u001b[0m \u001b[0mhook\u001b[0m \u001b[0;32min\u001b[0m \u001b[0mself\u001b[0m\u001b[0;34m.\u001b[0m\u001b[0m_forward_hooks\u001b[0m\u001b[0;34m.\u001b[0m\u001b[0mvalues\u001b[0m\u001b[0;34m(\u001b[0m\u001b[0;34m)\u001b[0m\u001b[0;34m:\u001b[0m\u001b[0;34m\u001b[0m\u001b[0;34m\u001b[0m\u001b[0m\n\u001b[1;32m    495\u001b[0m             \u001b[0mhook_result\u001b[0m \u001b[0;34m=\u001b[0m \u001b[0mhook\u001b[0m\u001b[0;34m(\u001b[0m\u001b[0mself\u001b[0m\u001b[0;34m,\u001b[0m \u001b[0minput\u001b[0m\u001b[0;34m,\u001b[0m \u001b[0mresult\u001b[0m\u001b[0;34m)\u001b[0m\u001b[0;34m\u001b[0m\u001b[0;34m\u001b[0m\u001b[0m\n",
            "\u001b[0;32m/usr/local/lib/python3.6/dist-packages/torch/nn/modules/conv.py\u001b[0m in \u001b[0;36mforward\u001b[0;34m(self, input)\u001b[0m\n\u001b[1;32m    336\u001b[0m                             _pair(0), self.dilation, self.groups)\n\u001b[1;32m    337\u001b[0m         return F.conv2d(input, self.weight, self.bias, self.stride,\n\u001b[0;32m--> 338\u001b[0;31m                         self.padding, self.dilation, self.groups)\n\u001b[0m\u001b[1;32m    339\u001b[0m \u001b[0;34m\u001b[0m\u001b[0m\n\u001b[1;32m    340\u001b[0m \u001b[0;34m\u001b[0m\u001b[0m\n",
            "\u001b[0;31mTypeError\u001b[0m: conv2d(): argument 'input' (position 1) must be Tensor, not tuple"
          ]
        }
      ]
    },
    {
      "cell_type": "code",
      "metadata": {
        "id": "CDv3nG8rX5M-",
        "colab_type": "code",
        "outputId": "b6f3811f-0f88-4f74-fbca-0dc959d394b5",
        "colab": {
          "base_uri": "https://localhost:8080/",
          "height": 51
        }
      },
      "source": [
        "print(torch.cuda.memory_allocated(0)/ 1e9) # How much memory is the GPU using in GB\n",
        "\n",
        "gc.collect() # Force the garbage collector to release memory\n"
      ],
      "execution_count": 8,
      "outputs": [
        {
          "output_type": "stream",
          "text": [
            "0.0\n"
          ],
          "name": "stdout"
        },
        {
          "output_type": "execute_result",
          "data": {
            "text/plain": [
              "0"
            ]
          },
          "metadata": {
            "tags": []
          },
          "execution_count": 8
        }
      ]
    },
    {
      "cell_type": "code",
      "metadata": {
        "id": "V6iCBoiCespm",
        "colab_type": "code",
        "colab": {}
      },
      "source": [
        "try:\n",
        "  pass\n",
        "except: # Without specifying the exception, this will catch all exceptions\n",
        "  __ITB__() # prints a stack trace\n",
        "  \n",
        "# Place code in a function, rather than keeping global scope. This will prevent memory problems"
      ],
      "execution_count": 0,
      "outputs": []
    },
    {
      "cell_type": "code",
      "metadata": {
        "id": "S2H1SLoon8c1",
        "colab_type": "code",
        "outputId": "46a3559a-8bea-4af5-c5df-ba8f38035c4b",
        "colab": {
          "base_uri": "https://localhost:8080/",
          "height": 289
        }
      },
      "source": [
        "!nvidia-smi"
      ],
      "execution_count": 10,
      "outputs": [
        {
          "output_type": "stream",
          "text": [
            "Sat Sep 28 15:57:29 2019       \n",
            "+-----------------------------------------------------------------------------+\n",
            "| NVIDIA-SMI 430.40       Driver Version: 418.67       CUDA Version: 10.1     |\n",
            "|-------------------------------+----------------------+----------------------+\n",
            "| GPU  Name        Persistence-M| Bus-Id        Disp.A | Volatile Uncorr. ECC |\n",
            "| Fan  Temp  Perf  Pwr:Usage/Cap|         Memory-Usage | GPU-Util  Compute M. |\n",
            "|===============================+======================+======================|\n",
            "|   0  Tesla K80           Off  | 00000000:00:04.0 Off |                    0 |\n",
            "| N/A   50C    P0    57W / 149W |  11237MiB / 11441MiB |      0%      Default |\n",
            "+-------------------------------+----------------------+----------------------+\n",
            "                                                                               \n",
            "+-----------------------------------------------------------------------------+\n",
            "| Processes:                                                       GPU Memory |\n",
            "|  GPU       PID   Type   Process name                             Usage      |\n",
            "|=============================================================================|\n",
            "+-----------------------------------------------------------------------------+\n"
          ],
          "name": "stdout"
        }
      ]
    },
    {
      "cell_type": "code",
      "metadata": {
        "id": "wCEc1WJgiZyr",
        "colab_type": "code",
        "colab": {}
      },
      "source": [
        "# Concatenate multiple tensors\n",
        "# torch.cat()\n",
        "\n",
        "# Use Convolution Transpose\n",
        "# There should be a module in nn that does this\n",
        "\n",
        "# In loaders...\n",
        "# modify \"num_workers\" parameter\n",
        "# somewhere between 2 - 6\n",
        "# mostly applicable to the training loaders, but you could do it on validation loaders as well\n",
        "\n",
        "# See GPU Utilization\n",
        "# GPUTIL"
      ],
      "execution_count": 0,
      "outputs": []
    },
    {
      "cell_type": "code",
      "metadata": {
        "id": "GUaDr7Vya9J2",
        "colab_type": "code",
        "colab": {}
      },
      "source": [
        "class ConvBlock(nn.Module):\n",
        "  def __init__(self, in_channels, out_channels):\n",
        "    super(ConvBlock, self).__init__()\n",
        "    \n",
        "    self.net = nn.Sequential(\n",
        "      nn.Conv2d(in_channels, out_channels, (3, 3), padding=(1, 1)),\n",
        "      nn.ReLU(),\n",
        "      nn.Conv2d(out_channels, out_channels, (3, 3), padding=(1, 1)),\n",
        "      nn.ReLU(),\n",
        "      nn.Conv2d(out_channels, out_channels, (3, 3), padding=(1, 1)),\n",
        "      nn.ReLU()\n",
        "    )\n",
        "    \n",
        "  def forward(self, x):\n",
        "    return self.net(x)\n",
        "  \n",
        "class ConvNetwork(nn.Module):\n",
        "  def __init__(self, dataset):\n",
        "    super(ConvNetwork, self).__init__()\n",
        "    x, y = dataset[0]\n",
        "    c, h, w = x.size()\n",
        "    \n",
        "    # Setting up objects\n",
        "    \n",
        "    # Downwards\n",
        "    self.max_pool = nn.MaxPool2d(2)\n",
        "    \n",
        "    self.conv1 = ConvBlock(c, 64) # For a 3x3 kernel, the padding is always (1, 1)\n",
        "    self.conv2 = ConvBlock(64, 128)\n",
        "    self.conv3 = ConvBlock(128, 256)\n",
        "    self.conv4 = ConvBlock(256, 512)\n",
        "    self.conv5 = ConvBlock(512, 1024)\n",
        "    \n",
        "    # Questions to Answer\n",
        "    # - What am I expecting after an Up-Convolution?\n",
        "    # - What am I concatenating together and how does the cat function work\n",
        "    \n",
        "    # Upwards\n",
        "    self.upconv1 = nn.ConvTranspose2d(1024, 512, 2, stride=2, padding=0)\n",
        "    self.conv6 = ConvBlock(1024, 512)\n",
        "    \n",
        "    self.upconv2 = nn.ConvTranspose2d(512, 256, 2, stride=2, padding=0)\n",
        "    self.conv7 = ConvBlock(512, 256)\n",
        "    \n",
        "    self.upconv3 = nn.ConvTranspose2d(256, 128, 2, stride=2, padding=0)\n",
        "    self.conv8 = ConvBlock(256, 128)\n",
        "    \n",
        "    self.upconv4 = nn.ConvTranspose2d(128, 64, 2, stride=2, padding=0)\n",
        "    self.conv9 = ConvBlock(128, 64)\n",
        "    \n",
        "    # 1x1 conv with 2 output channels\n",
        "    self.outconv = nn.Conv2d(64, 2, (1, 1), padding=(0, 0))\n",
        "    \n",
        "  def forward(self, x):\n",
        "    n, c, h, w = x.size()\n",
        "    \n",
        "    # Downwards\n",
        "    o1 = self.conv1(x)\n",
        "    mp1 = self.max_pool(o1)\n",
        "    o2 = self.conv2(mp1)\n",
        "    mp2 = self.max_pool(o2)\n",
        "    o3 = self.conv3(mp2)\n",
        "    mp3 = self.max_pool(o3)\n",
        "    o4 = self.conv4(mp3)\n",
        "    mp4 = self.max_pool(o4)\n",
        "    o5 = self.conv5(mp4)\n",
        "    \n",
        "    # Upwards\n",
        "    up1 = self.upconv1(o5)\n",
        "    o6 = self.conv6(torch.cat((o4, up1), 1))\n",
        "\n",
        "    up2 = self.upconv2(o6)\n",
        "    o7 = self.conv7(torch.cat((o3, up2), 1))\n",
        "    \n",
        "    up3 = self.upconv3(o7)\n",
        "    o8 = self.conv8(torch.cat((o2, up3), 1))\n",
        "    \n",
        "    up4 = self.upconv4(o8)\n",
        "    o9 = self.conv9(torch.cat((o1, up4), 1))\n",
        "    \n",
        "    # Final 1x1 convolution\n",
        "    o10 = self.outconv(o9)\n",
        "    \n",
        "    return o10"
      ],
      "execution_count": 0,
      "outputs": []
    },
    {
      "cell_type": "code",
      "metadata": {
        "id": "_sv8g1dh0bll",
        "colab_type": "code",
        "colab": {}
      },
      "source": [
        "def compute_accuracy(y_hat, y_truth):\n",
        "  y_hat = y_hat[0]\n",
        "  y_truth = [0]\n",
        "  y_hat[0] = y_hat[0] > .5\n",
        "  y_hat[1] = y_hat[1] >= .5\n",
        "  intersection = torch.sum(y_hat[0] * y_truth)\n",
        "  union = torch.sum(y_hat[0] + y_truth >= 1)\n",
        "  return intersection / union\n",
        "\n",
        "def main():\n",
        "  root = '/tmp/cancer_data'\n",
        "  num_epochs = 1\n",
        "  \n",
        "  train_dataset = CancerDataset(root, train=True)\n",
        "  val_dataset = CancerDataset(root, train=False)\n",
        "  \n",
        "  model = ConvNetwork(train_dataset)\n",
        "  model = model.cuda()\n",
        "  \n",
        "  objective = nn.CrossEntropyLoss()\n",
        "  optimizer = optim.Adam(model.parameters(), lr=1e-4)\n",
        "  \n",
        "  train_loader = DataLoader(train_dataset,\n",
        "                           batch_size=8,\n",
        "                           num_workers=3,\n",
        "                           pin_memory=True,\n",
        "                           shuffle=True)\n",
        "  \n",
        "  val_loader = DataLoader(train_dataset,\n",
        "                         batch_size=8,\n",
        "                         num_workers=3,\n",
        "                         pin_memory=True,\n",
        "                         shuffle=True)\n",
        "  \n",
        "  train_losses = []\n",
        "  val_losses = []\n",
        "  train_acc = []\n",
        "  val_acc = []\n",
        "  \n",
        "  for epoch in range(num_epochs):\n",
        "    loop = tqdm(total=len(train_loader), position=0, leave=False)\n",
        "    \n",
        "    for batch, (x, y_truth) in enumerate(train_loader):\n",
        "      gc.collect()\n",
        "      x, y_truth = x.cuda(async=True), y_truth.cuda(async=True)\n",
        "      \n",
        "      optimizer.zero_grad()\n",
        "      y_hat = model(x)\n",
        "      \n",
        "      #pdb.set_trace()\n",
        "      loss = objective(y_hat, y_truth.long())\n",
        "      accuracy = compute_accuracy(y_hat, y_truth)\n",
        "      \n",
        "      loss.backward()\n",
        "      \n",
        "      train_losses.append(loss.item())\n",
        "      train_acc.append(accuracy)\n",
        "      \n",
        "      loop.set_description('epoch:{}, loss:{:.4f}, accuracy:{:.3f}'.format(epoch, loss, accuracy))\n",
        "      loop.update(1)\n",
        "      \n",
        "      optimizer.step()\n",
        "      \n",
        "      if batch % 10 == 0:\n",
        "        val = np.mean([objective(model(x.cuda()), y.cuda().long()).item()\n",
        "                      for x, y in val_loader])\n",
        "\n",
        "        val_y_hats = np.mean([(model(x.cuda()).argmax(1) == y_truth.cuda()).float().mean().item()\n",
        "                     for x, y_truth in val_loader])\n",
        "\n",
        "        val_losses.append((len(train_losses), val))\n",
        "        val_acc.append((len(train_losses), val_y_hats))\n",
        "        \n",
        "    loop.close()\n",
        "\n",
        "try:\n",
        "  main()\n",
        "  gc.collect()\n",
        "except:\n",
        "  gc.collect()\n",
        "  __ITB__()"
      ],
      "execution_count": 0,
      "outputs": []
    },
    {
      "cell_type": "markdown",
      "metadata": {
        "colab_type": "text",
        "id": "QY4owfQwm-Ni"
      },
      "source": [
        "___\n",
        "\n",
        "### Part 1b\n",
        "Implement a cost function\n",
        "\n",
        "You should still use cross-entropy as your cost function, but you may need to think hard about how exactly to set this up – your network should output cancer/not-cancer probabilities for each pixel, which can be viewed as a two-class classification problem.\n",
        "\n",
        "**TODO:**\n",
        "\n",
        "* Adapt CrossEntropyLoss for 2 class pixel classification\n",
        "\n",
        "**DONE:**\n",
        "\n"
      ]
    },
    {
      "cell_type": "code",
      "metadata": {
        "colab_type": "code",
        "id": "XPgrP88aOtfy",
        "colab": {}
      },
      "source": [
        "# You'll probably want a function or something to test input / output sizes of the ConvTranspose2d layer\n"
      ],
      "execution_count": 0,
      "outputs": []
    },
    {
      "cell_type": "code",
      "metadata": {
        "colab_type": "code",
        "id": "jq22IyKanxo_",
        "colab": {}
      },
      "source": [
        "# Since you will be using the output of one network in two places(convolution and maxpooling),\n",
        "# you can't use nn.Sequential.\n",
        "# Instead you will write up the network like normal variable assignment as the example shown below:\n",
        "# You are welcome (and encouraged) to use the built-in batch normalization and dropout layer.\n",
        "\n",
        "# TODO: You need to change this to fit the UNet structure!!!\n",
        "class CancerDetection(nn.Module):\n",
        "  def __init__(self):\n",
        "    super(CancerDetection, self).__init__()\n",
        "    self.conv1 = nn.Conv2d(3,64,kernel_size = 3, stride = 1, padding = 1)\n",
        "    self.relu2 = nn.ReLU()\n",
        "    self.conv3 = nn.Conv2d(64,128,kernel_size = 3, stride = 1, padding = 1)\n",
        "    self.relu4 = nn.ReLU()\n",
        " \n",
        "  def forward(self, input):\n",
        "    conv1_out = self.conv1(input)\n",
        "    relu2_out = self.relu2(conv1_out)\n",
        "    conv3_out = self.conv3(relu2_out)\n",
        "    relu4_out = self.relu4(conv3_out) \n",
        "    return relu4_out\n"
      ],
      "execution_count": 0,
      "outputs": []
    },
    {
      "cell_type": "code",
      "metadata": {
        "colab_type": "code",
        "id": "NAjagHCdGNAh",
        "colab": {}
      },
      "source": [
        "# Create your datasets and neural network as you have before\n"
      ],
      "execution_count": 0,
      "outputs": []
    },
    {
      "cell_type": "code",
      "metadata": {
        "colab_type": "code",
        "id": "RkieTbwlYWPS",
        "colab": {}
      },
      "source": [
        "# This is what was talked about in the video for memory management\n",
        "\n",
        "def scope():\n",
        "  try:\n",
        "    #your code for calling dataset and dataloader\n",
        "    gc.collect()\n",
        "    print(torch.cuda.memory_allocated(0) / 1e9)\n",
        "    \n",
        "    #for epochs:\n",
        "    # Call your model, figure out loss and accuracy\n",
        "    \n",
        "  except:\n",
        "    __ITB__()\n",
        "    \n",
        "scope()\n"
      ],
      "execution_count": 0,
      "outputs": []
    },
    {
      "cell_type": "markdown",
      "metadata": {
        "colab_type": "text",
        "id": "CZ062Jv1jIIu"
      },
      "source": [
        "\n",
        "___\n",
        "\n",
        "### Part 2\n",
        "\n",
        "Plot performance over time\n",
        "\n",
        "Please generate a plot that shows loss on the training set as a function of training time. Make sure your axes are labeled!\n",
        "\n",
        "**TODO:**\n",
        "\n",
        "* Plot training loss as function of training time (not Epochs)\n",
        "\n",
        "**DONE:**\n"
      ]
    },
    {
      "cell_type": "code",
      "metadata": {
        "colab_type": "code",
        "id": "mTg1jyIsYVZN",
        "colab": {}
      },
      "source": [
        "# Your plotting code here\n"
      ],
      "execution_count": 0,
      "outputs": []
    },
    {
      "cell_type": "markdown",
      "metadata": {
        "colab_type": "text",
        "id": "S4s92S2_jQOG"
      },
      "source": [
        "___\n",
        "\n",
        "### Part 3\n",
        "\n",
        "Generate a prediction on the pos_test_000072.png image\n",
        "\n",
        "Calculate the output of your trained network on the pos_test_000072.png image,\n",
        "then make a hard decision (cancerous/not-cancerous) for each pixel.\n",
        "The resulting image should be black-and-white, where white pixels represent things\n",
        "you think are probably cancerous.\n",
        "\n",
        "**TODO:**\n",
        "\n",
        "**DONE:**\n",
        "\n",
        "**NOTE:**\n",
        "\n",
        "Guessing that the pixel is not cancerous every single time will give you an accuracy of ~ 85%.\n",
        "Your trained network should be able to do better than that (but you will not be graded on accuracy).\n",
        "This is the result I got after 1 hour or training.\n",
        "\n",
        "![](http://liftothers.org/dokuwiki/lib/exe/fetch.php?w=400&tok=d23e0b&media=cs501r_f2016:training_accuracy.png)\n",
        "![](http://liftothers.org/dokuwiki/lib/exe/fetch.php?w=400&tok=bb8e3c&media=cs501r_f2016:training_loss.png)"
      ]
    },
    {
      "cell_type": "code",
      "metadata": {
        "colab_type": "code",
        "id": "XXfG3wClh8an",
        "pycharm": {
          "is_executing": false
        },
        "colab": {}
      },
      "source": [
        "# Code for testing prediction on an image\n"
      ],
      "execution_count": 0,
      "outputs": []
    }
  ]
}