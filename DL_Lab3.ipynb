{
  "nbformat": 4,
  "nbformat_minor": 0,
  "metadata": {
    "accelerator": "GPU",
    "colab": {
      "name": "DL_Lab3.ipynb",
      "provenance": [],
      "collapsed_sections": [],
      "include_colab_link": true
    },
    "kernelspec": {
      "name": "python3",
      "display_name": "Python 3"
    },
    "language_info": {
      "codemirror_mode": {
        "name": "ipython",
        "version": 3
      },
      "file_extension": ".py",
      "mimetype": "text/x-python",
      "name": "python",
      "nbconvert_exporter": "python",
      "pygments_lexer": "ipython3",
      "version": "3.6.3"
    },
    "pycharm": {
      "stem_cell": {
        "cell_type": "raw",
        "source": [],
        "metadata": {
          "collapsed": false
        }
      }
    }
  },
  "cells": [
    {
      "cell_type": "markdown",
      "metadata": {
        "id": "view-in-github",
        "colab_type": "text"
      },
      "source": [
        "<a href=\"https://colab.research.google.com/github/ericburdett/cs474_labs_f2019/blob/master/DL_Lab3.ipynb\" target=\"_parent\"><img src=\"https://colab.research.google.com/assets/colab-badge.svg\" alt=\"Open In Colab\"/></a>"
      ]
    },
    {
      "cell_type": "markdown",
      "metadata": {
        "id": "6lsCB-GCfRyv",
        "colab_type": "text"
      },
      "source": [
        "<a href=\"https://colab.research.google.com/github/ericburdett/cs474_labs_f2019/blob/master/DL_Lab3.ipynb\" target=\"_parent\"><img src=\"https://colab.research.google.com/assets/colab-badge.svg\" alt=\"Open In Colab\"/></a>"
      ]
    },
    {
      "cell_type": "markdown",
      "metadata": {
        "colab_type": "text",
        "id": "view-in-github"
      },
      "source": [
        "# Lab 3: Intro to CNNs and DNNs\n",
        "\n",
        "## Objectives\n",
        "\n",
        "* Build and train a deep conv net\n",
        "* Explore and implement various initialization techniques\n",
        "* Implement a parameterized module in Pytorch\n",
        "* Use a principled loss function\n",
        "\n",
        "## Video Tutorial\n",
        "[https://youtu.be/3TAuTcx-VCc](https://youtu.be/3TAuTcx-VCc)\n",
        "\n",
        "## Deliverable\n",
        "For this lab, you will submit an ipython notebook via learningsuite.\n",
        "This is where you build your first deep neural network!\n",
        "\n",
        "For this lab, we'll be combining several different concepts that we've covered during class,\n",
        "including new layer types, initialization strategies, and an understanding of convolutions.\n",
        "\n",
        "## Grading Standards:\n",
        "* 30% Part 0: Successfully followed lab video and typed in code\n",
        "* 20% Part 1: Re-implement Conv2D and CrossEntropy loss function\n",
        "* 20% Part 2: Implement different initialization strategies\n",
        "* 10% Part 3: Print parameters, plot train/test accuracy\n",
        "* 10% Part 4: Convolution parameters quiz\n",
        "* 10% Tidy and legible figures, including labeled axes where appropriate\n",
        "___\n",
        "\n",
        "### Part 0\n",
        "Watch and follow video tutorial:\n",
        "\n",
        "[https://youtu.be/3TAuTcx-VCc](https://youtu.be/3TAuTcx-VCc)\n",
        "\n",
        "**TODO:**\n",
        "\n",
        "\n",
        "**DONE:**\n",
        "* Watch tutorial"
      ]
    },
    {
      "cell_type": "code",
      "metadata": {
        "pycharm": {
          "name": "#%%\n"
        },
        "id": "5LgJ1Wn8fRyy",
        "colab_type": "code",
        "outputId": "ec8f8436-908d-45b1-db82-83a4a3228fe8",
        "colab": {
          "base_uri": "https://localhost:8080/",
          "height": 173
        }
      },
      "source": [
        "!pip3 install torch\n",
        "!pip3 install torchvision\n",
        "!pip3 install tqdm"
      ],
      "execution_count": 0,
      "outputs": [
        {
          "output_type": "stream",
          "text": [
            "Requirement already satisfied: torch in /usr/local/lib/python3.6/dist-packages (1.1.0)\n",
            "Requirement already satisfied: numpy in /usr/local/lib/python3.6/dist-packages (from torch) (1.16.5)\n",
            "Requirement already satisfied: torchvision in /usr/local/lib/python3.6/dist-packages (0.3.0)\n",
            "Requirement already satisfied: numpy in /usr/local/lib/python3.6/dist-packages (from torchvision) (1.16.5)\n",
            "Requirement already satisfied: six in /usr/local/lib/python3.6/dist-packages (from torchvision) (1.12.0)\n",
            "Requirement already satisfied: pillow>=4.1.1 in /usr/local/lib/python3.6/dist-packages (from torchvision) (4.3.0)\n",
            "Requirement already satisfied: torch>=1.1.0 in /usr/local/lib/python3.6/dist-packages (from torchvision) (1.1.0)\n",
            "Requirement already satisfied: olefile in /usr/local/lib/python3.6/dist-packages (from pillow>=4.1.1->torchvision) (0.46)\n",
            "Requirement already satisfied: tqdm in /usr/local/lib/python3.6/dist-packages (4.28.1)\n"
          ],
          "name": "stdout"
        }
      ]
    },
    {
      "cell_type": "markdown",
      "metadata": {
        "id": "WFhimk6zfRy1",
        "colab_type": "text"
      },
      "source": [
        ""
      ]
    },
    {
      "cell_type": "code",
      "metadata": {
        "colab_type": "code",
        "id": "wQOefmcZVgTl",
        "colab": {}
      },
      "source": [
        "import torch\n",
        "import torch.nn as nn\n",
        "import torch.nn.functional as F\n",
        "import torch.optim as optim\n",
        "from torch.utils.data import Dataset, DataLoader\n",
        "import numpy as np\n",
        "import matplotlib.pyplot as plt\n",
        "from torchvision import transforms, utils, datasets\n",
        "from tqdm import tqdm\n",
        "from torch.nn.parameter import Parameter\n",
        "import pdb\n",
        "\n",
        "assert torch.cuda.is_available(), \"You need to request a GPU from Runtime > Change Runtime\""
      ],
      "execution_count": 0,
      "outputs": []
    },
    {
      "cell_type": "code",
      "metadata": {
        "colab_type": "code",
        "id": "Il_53HLSWPTY",
        "colab": {}
      },
      "source": [
        "# Use the dataset class you created in lab2\n",
        "\n",
        "class Conv2d(nn.Module):\n",
        "  def __init__(self, n_channels, out_channels, kernel_size, stride=1, padding=0, dilation=1, groups=1, bias=True):\n",
        "    self.__dict__.update(locals())\n",
        "    super(Conv2d, self).__init__()\n",
        "    \n",
        "    self.weight = Parameter(torch.Tensor(out_channels,\n",
        "                                         n_channels,\n",
        "                                         *kernel_size))\n",
        "    self.bias = Parameter(torch.Tensor(out_channels))\n",
        "    \n",
        "    self.weight.data.uniform_(-1, 1)\n",
        "    self.bias.data.uniform_(0, 0)\n",
        "    \n",
        "  def forward(self, x):\n",
        "    return F.conv2d(x, self.weight, self.bias, self.stride, self.padding, self.dilation, self.groups)\n",
        "                                \n",
        "\n",
        "class ConvNetwork(nn.Module):\n",
        "  def __init__(self, dataset):\n",
        "    super(ConvNetwork, self).__init__()\n",
        "    x, y = dataset[0]\n",
        "    c, h, w = x.size()\n",
        "    output = 10\n",
        "    \n",
        "    self.net = nn.Sequential(\n",
        "      Conv2d(c, 10, (3, 3), padding=(1, 1)),\n",
        "      Conv2d(10, output, (28, 28), padding=(0, 0))\n",
        "    )\n",
        "    \n",
        "  def forward(self, x):\n",
        "    return self.net(x).squeeze(2).squeeze(2)\n",
        "    \n",
        "\n",
        "class FashionMNISTProcessedDataset(Dataset):\n",
        "  def __init__(self, root, train=True):\n",
        "    self.data = datasets.FashionMNIST(root,\n",
        "                                     train=train,\n",
        "                                     transform=transforms.ToTensor(),\n",
        "                                     download=True)\n",
        "  def __getitem__(self, i):\n",
        "    x, y = self.data[i]\n",
        "    # pdb.set_trace() # for debugging... stops at this point in execution and you can check data types, vars, etc.\n",
        "    return x, y\n",
        "  \n",
        "  def __len__(self):\n",
        "    # Consider modifying this value for future parts\n",
        "    return len(self.data)\n",
        "  \n",
        "  \n",
        "train_dataset = FashionMNISTProcessedDataset('/tmp/fashionmnist', train=True)\n",
        "val_dataset = FashionMNISTProcessedDataset('/tmp/fashionmnist', train=False)\n",
        "\n",
        "\n",
        "model = ConvNetwork(train_dataset)\n",
        "model = model.cuda()\n",
        "\n",
        "objective = torch.nn.CrossEntropyLoss()\n",
        "optimizer = optim.Adam(model.parameters(), lr=1e-4)\n",
        "\n",
        "train_loader = DataLoader(train_dataset,\n",
        "                          batch_size=42,\n",
        "                          pin_memory=True)\n",
        "\n",
        "val_loader = DataLoader(val_dataset,\n",
        "                        batch_size=42,\n",
        "                        pin_memory=True)\n",
        "\n",
        "train_losses = []\n",
        "val_losses = []\n",
        "\n",
        "for epoch in range(1):\n",
        "  loop = tqdm(total=len(train_loader), position=0, leave=False)\n",
        "  \n",
        "  for batch, (x, y_truth) in enumerate(train_loader):\n",
        "    x, y_truth = x.cuda(async=True), y_truth.cuda(async=True)\n",
        "    \n",
        "    optimizer.zero_grad()\n",
        "    y_hat = model(x)\n",
        "    \n",
        "    loss = objective(y_hat, y_truth)\n",
        "    \n",
        "    loss.backward()\n",
        "    \n",
        "    train_losses.append(loss.item())\n",
        "    accuracy = 0\n",
        "    loop.set_description('epoch:{}, loss:{:.4f}'.format(epoch, loss))\n",
        "    loop.update(1)\n",
        "    \n",
        "    optimizer.step()\n",
        "    \n",
        "    if batch % 100 == 0:\n",
        "      val = np.mean([objective(model(x.cuda()), y.cuda()).item()\n",
        "                    for x, y in val_loader])\n",
        "      val_losses.append((len(train_losses), val))\n",
        "\n",
        "  loop.close()\n",
        "  \n",
        "a, b = zip(*val_losses)\n",
        "plt.plot(train_losses, label='train')\n",
        "plt.plot(a, b, label='val')\n",
        "plt.legend()\n",
        "plt.show()\n"
      ],
      "execution_count": 0,
      "outputs": []
    },
    {
      "cell_type": "markdown",
      "metadata": {
        "colab_type": "text",
        "id": "QY4owfQwm-Ni"
      },
      "source": [
        "___\n",
        "\n",
        "### Part 1\n",
        "Re-implement a Conv2D module with parameters and a CrossEntropy loss function.\n",
        "\n",
        "**TODO:**\n",
        "\n",
        "\n",
        "**DONE:**\n",
        "* CrossEntropyLoss \n",
        "* Conv2D\n",
        "___\n",
        "\n",
        "### Part 2\n",
        "Implement a few initialization strategies which can include Xe initialization\n",
        "(sometimes called Xavier), Orthogonal initialization, and uniform random.\n",
        "You can specify which strategy you want to use with a parameter. \n",
        "\n",
        "\n",
        "\n",
        "Helpful links include:\n",
        "*  [Orthogonal Initialization](https://hjweide.github.io/orthogonal-initialization-in-convolutional-layers) (or the original paper: http://arxiv.org/abs/1312.6120)\n",
        "*  http://andyljones.tumblr.com/post/110998971763/an-explanation-of-xavier-initialization\n",
        "\n",
        "**TODO:**\n",
        "\n",
        "\n",
        "**DONE:**\n",
        "* Parameterize custom Conv2D for different initilization strategies\n",
        "* Xe\n",
        "* Orthogonal\n",
        "* Uniform\n"
      ]
    },
    {
      "cell_type": "code",
      "metadata": {
        "id": "cKLtw66cXLo0",
        "colab_type": "code",
        "outputId": "b635a574-cbf7-4464-c3e4-6526c36d2a5b",
        "colab": {
          "base_uri": "https://localhost:8080/",
          "height": 34
        }
      },
      "source": [
        "a = torch.from_numpy(np.random.randn(3,4,1).astype(np.float32))\n",
        "b = torch.exp(a)\n",
        "b[:,].size()"
      ],
      "execution_count": 0,
      "outputs": [
        {
          "output_type": "execute_result",
          "data": {
            "text/plain": [
              "torch.Size([3, 4, 1])"
            ]
          },
          "metadata": {
            "tags": []
          },
          "execution_count": 46
        }
      ]
    },
    {
      "cell_type": "code",
      "metadata": {
        "colab_type": "code",
        "id": "RkieTbwlYWPS",
        "colab": {}
      },
      "source": [
        "class CrossEntropyLoss(nn.Module):\n",
        "  def __init__(self, weight=None, size_average=None, ignore_index=-100, reduce=None, reduction='mean'):\n",
        "    super(CrossEntropyLoss, self).__init__()\n",
        "  \n",
        "  def forward(self, y_hat, y_truth):\n",
        "    wrong_class_penalty = torch.log(torch.sum(torch.exp(y_hat), dim=1))\n",
        "    n, classes = y_hat.size()\n",
        "    b = torch.zeros((n, classes))\n",
        "    b[np.arange(n), y_truth] = 1\n",
        "    true_class_preds = torch.sum(y_hat * b.cuda(), dim=1)\n",
        "    return torch.mean(-true_class_preds + wrong_class_penalty)\n",
        "\n",
        "class Conv2d(nn.Module):\n",
        "  def __init__(self, n_channels, out_channels, kernel_size, stride=1, padding=0, dilation=1, groups=1, bias=True, init='xe'):\n",
        "    self.__dict__.update(locals())\n",
        "    super(Conv2d, self).__init__()\n",
        "    \n",
        "    self.weight = Parameter(torch.Tensor(out_channels,\n",
        "                                         n_channels,\n",
        "                                         *kernel_size))\n",
        "    \n",
        "    if init == 'uniform':\n",
        "      self.weight.data.uniform_(-1, 1)\n",
        "    elif init == 'xe':\n",
        "      nn.init.xavier_uniform_(self.weight.data)\n",
        "    elif init == 'orthogonal':\n",
        "      X = np.random.random((out_channels, n_channels * kernel_size[0] * kernel_size[1])).astype(np.float32)\n",
        "      U, _, Vt = np.linalg.svd(X, full_matrices=False)\n",
        "      \n",
        "      if len(X) > len(X[0]):\n",
        "        W = U.reshape((out_channels, n_channels, kernel_size[0], kernel_size[1]))\n",
        "      else:\n",
        "        W = Vt.reshape((out_channels, n_channels, kernel_size[0], kernel_size[1]))\n",
        "      self.weight.data = torch.from_numpy(W)\n",
        "    \n",
        "    \n",
        "    self.bias = Parameter(torch.Tensor(out_channels))\n",
        "    self.bias.data.uniform_(0, 0)\n",
        "    \n",
        "  def forward(self, x):\n",
        "    return F.conv2d(x, self.weight, self.bias, self.stride, self.padding, self.dilation, self.groups)\n"
      ],
      "execution_count": 0,
      "outputs": []
    },
    {
      "cell_type": "code",
      "metadata": {
        "colab_type": "code",
        "id": "d4C-_v9Hm7YE",
        "colab": {}
      },
      "source": [
        "class ConvNetwork(nn.Module):\n",
        "  def __init__(self, dataset):\n",
        "    super(ConvNetwork, self).__init__()\n",
        "    x, y = dataset[0]\n",
        "    c, h, w = x.size()\n",
        "    output = 10\n",
        "    \n",
        "    #pdb.set_trace()\n",
        "    \n",
        "    self.net = nn.Sequential(\n",
        "      Conv2d(c, 128, (3, 3), padding=(1, 1), init='orthogonal'),\n",
        "      nn.ReLU(),\n",
        "      Conv2d(128, 128, (3, 3), padding=(1, 1), init='xe'),\n",
        "      nn.ReLU(),\n",
        "      Conv2d(128, 128, (5, 5), padding=(2, 2), init='orthogonal'),\n",
        "      nn.ReLU(),\n",
        "      Conv2d(128, 64, (3, 3), padding=(1, 1), init='xe'),\n",
        "      nn.ReLU(),\n",
        "      Conv2d(64, 32, (1, 1), padding=(0, 0), init='orthogonal'),\n",
        "      nn.ReLU(),\n",
        "      Conv2d(32, 32, (3, 3), padding=(1, 1), init='xe'),\n",
        "      nn.ReLU(),\n",
        "      Conv2d(32, output, (28, 28), padding=(0, 0), init='orthogonal'),\n",
        "    )\n",
        "    \n",
        "  def forward(self, x):\n",
        "    return self.net(x).squeeze(2).squeeze(2)\n"
      ],
      "execution_count": 0,
      "outputs": []
    },
    {
      "cell_type": "code",
      "metadata": {
        "colab_type": "code",
        "id": "jYqywck8Wdm9",
        "pycharm": {
          "is_executing": false
        },
        "colab": {
          "base_uri": "https://localhost:8080/",
          "height": 17
        },
        "outputId": "61f83f41-1e9f-45d4-e999-c1cc91142039"
      },
      "source": [
        "train_dataset = FashionMNISTProcessedDataset('/tmp/fashionmnist', train=True)\n",
        "val_dataset = FashionMNISTProcessedDataset('/tmp/fashionmnist', train=False)\n",
        "\n",
        "\n",
        "model = ConvNetwork(train_dataset)\n",
        "model = model.cuda()\n",
        "\n",
        "objective = CrossEntropyLoss()\n",
        "optimizer = optim.Adam(model.parameters(), lr=1e-4)\n",
        "\n",
        "train_loader = DataLoader(train_dataset,\n",
        "                          batch_size=100,\n",
        "                          pin_memory=True)\n",
        "\n",
        "val_loader = DataLoader(val_dataset,\n",
        "                        batch_size=100,\n",
        "                        pin_memory=True)\n",
        "\n",
        "train_losses = []\n",
        "val_losses = []\n",
        "train_acc = []\n",
        "val_acc = []\n",
        "\n",
        "for epoch in range(1):\n",
        "  loop = tqdm(total=len(train_loader), position=0, leave=False)\n",
        "  \n",
        "  for batch, (x, y_truth) in enumerate(train_loader):\n",
        "    x, y_truth = x.cuda(async=True), y_truth.cuda(async=True)\n",
        "    \n",
        "    optimizer.zero_grad()\n",
        "    y_hat = model(x)\n",
        "    \n",
        "    loss = objective(y_hat, y_truth)\n",
        "    accuracy = (y_hat.argmax(1) == y_truth).float().mean()\n",
        "    \n",
        "    loss.backward()\n",
        "    \n",
        "    train_losses.append(loss.item())\n",
        "    train_acc.append(accuracy.item())\n",
        "    \n",
        "    loop.set_description('epoch:{}, loss:{:.4f}, accuracy:{:.3f}'.format(epoch, loss, accuracy))\n",
        "    loop.update(1)\n",
        "    \n",
        "    optimizer.step()\n",
        "    \n",
        "    if batch % 10 == 0:\n",
        "      val = np.mean([objective(model(x.cuda()), y.cuda()).item()\n",
        "                    for x, y in val_loader])\n",
        "      \n",
        "      val_y_hats = np.mean([(model(x.cuda()).argmax(1) == y_truth.cuda()).float().mean().item()\n",
        "                   for x, y_truth in val_loader])\n",
        "        \n",
        "      val_losses.append((len(train_losses), val))\n",
        "      val_acc.append((len(train_losses), val_y_hats))\n",
        "\n",
        "  loop.close()\n",
        "  \n"
      ],
      "execution_count": 244,
      "outputs": [
        {
          "output_type": "stream",
          "text": [
            ""
          ],
          "name": "stderr"
        }
      ]
    },
    {
      "cell_type": "markdown",
      "metadata": {
        "colab_type": "text",
        "id": "ronkEckHiDaU"
      },
      "source": [
        "\n",
        "___\n",
        "\n",
        "### Part 3\n",
        "Print the number of parameters in your network and plot accuracy of your training and validation \n",
        "set over time. You should experiment with some deep networks and see if you can get a network \n",
        "with close to 1,000,000 parameters.\n",
        "\n",
        "**TODO:**\n",
        "\n",
        "\n",
        "**DONE:**\n",
        "* Experiment with Deep Networks\n",
        "* Plot accuracy of training and validation set over time\n",
        "* Print out number of parameters in the model "
      ]
    },
    {
      "cell_type": "code",
      "metadata": {
        "id": "e1pz9P1xJncu",
        "colab_type": "code",
        "colab": {
          "base_uri": "https://localhost:8080/",
          "height": 281
        },
        "outputId": "353e8073-c48c-47c4-d089-aa14a3e880f6"
      },
      "source": [
        "a, b = zip(*val_losses)\n",
        "plt.title('Loss')\n",
        "plt.plot(train_losses, label='train')\n",
        "plt.plot(a, b, label='val')\n",
        "plt.legend()\n",
        "plt.show()"
      ],
      "execution_count": 245,
      "outputs": [
        {
          "output_type": "display_data",
          "data": {
            "image/png": "[encoded data removed]",
            "text/plain": [
              "<Figure size 432x288 with 1 Axes>"
            ]
          },
          "metadata": {
            "tags": []
          }
        }
      ]
    },
    {
      "cell_type": "code",
      "metadata": {
        "colab_type": "code",
        "id": "PaWCKjxvyRSf",
        "pycharm": {
          "is_executing": false
        },
        "colab": {
          "base_uri": "https://localhost:8080/",
          "height": 281
        },
        "outputId": "920e5375-1b69-40ac-ecf1-5a51668fb97f"
      },
      "source": [
        "plt.title('Accuracy')\n",
        "a, b = zip(*val_acc)\n",
        "plt.plot(train_acc, label='train')\n",
        "plt.plot(a, b, label='val')\n",
        "plt.legend()\n",
        "plt.show()"
      ],
      "execution_count": 246,
      "outputs": [
        {
          "output_type": "display_data",
          "data": {
            "image/png": "[encoded data removed]",
            "text/plain": [
              "<Figure size 432x288 with 1 Axes>"
            ]
          },
          "metadata": {
            "tags": []
          }
        }
      ]
    },
    {
      "cell_type": "code",
      "metadata": {
        "colab_type": "code",
        "id": "oijCR-JnyS6V",
        "pycharm": {
          "is_executing": false
        },
        "colab": {
          "base_uri": "https://localhost:8080/",
          "height": 34
        },
        "outputId": "81d9a1fa-5b41-442c-f109-2619a9f83bed"
      },
      "source": [
        "# Compute and print the number of parameters in the model\n",
        "\n",
        "total_params = 0\n",
        "for p in model.parameters():\n",
        "  \n",
        "  layer_params = 1\n",
        "  \n",
        "  for s in p.size():\n",
        "    layer_params *= s\n",
        "  \n",
        "  total_params += layer_params\n",
        "  \n",
        "print(\"Total Number of Parameters: \", total_params)"
      ],
      "execution_count": 242,
      "outputs": [
        {
          "output_type": "stream",
          "text": [
            "Total Number of Parameters:  538186\n"
          ],
          "name": "stdout"
        }
      ]
    },
    {
      "cell_type": "markdown",
      "metadata": {
        "colab_type": "text",
        "id": "7hXGRxUQh9gX"
      },
      "source": [
        "___\n",
        "\n",
        "### Part 4\n",
        "Learn about how convolution layers affect the shape of outputs, and answer the following quiz questions. Include these in a new markdown cell in your jupyter notebook.\n",
        "\n",
        "\n",
        "*Using a Kernel size of 3×3 what should the settings of your 2d convolution be that results in the following mappings (first answer given to you)*\n",
        "\n",
        "* (c=3, h=10, w=10) ⇒ (c=10, h=8, w=8) : (out_channels=10, kernel_size=(3, 3), padding=(0, 0))\n",
        "* (c=3, h=10, w=10) ⇒ (c=22, h=10, w=10) : **(out_channels=22, kernel_size=(3, 3), padding=(1, 1))**\n",
        "* (c=3, h=10, w=10) ⇒ (c=65, h=12, w=12) : **(out_channels=65, kernel_size=(3, 3), padding=(2, 2))**\n",
        "* (c=3, h=10, w=10) ⇒ (c=7, h=20, w=20) : **(out_channels=7, kernel_size=(3, 3), padding=(6, 6))**\n",
        "\n",
        "*Using a Kernel size of 5×5:*)\n",
        "\n",
        "* (c=3, h=10, w=10) ⇒ (c=10, h=8, w=8) : **(out_channels=10, kernel_size=(5, 5), padding=(1, 1))**\n",
        "* (c=3, h=10, w=10) ⇒ (c=100, h=10, w=10) : **(out_channels=100, kernel_size=(5, 5), padding=(2, 2))**\n",
        "* (c=3, h=10, w=10) ⇒ (c=23, h=12, w=12) : **(out_channels=23, kernel_size=(5, 5), padding=(3, 3))**\n",
        "* (c=3, h=10, w=10) ⇒ (c=5, h=24, w=24) : **(out_channels=5, kernel_size=(5, 5), padding=(9, 9))**\n",
        "\n",
        "*Using Kernel size of 5×3:*\n",
        "\n",
        "* (c=3, h=10, w=10) ⇒ (c=10, h=8, w=8) : **(out_channels=10, kernel_size=(5, 3), padding=(1, 0))**\n",
        "* (c=3, h=10, w=10) ⇒ (c=100, h=10, w=10) : **(out_channels=100, kernel_size=(5, 3), padding=(2, 1))**\n",
        "* (c=3, h=10, w=10) ⇒ (c=23, h=12, w=12) : **(out_channels=23, kernel_size=(5, 3), padding=(3, 2))**\n",
        "* (c=3, h=10, w=10) ⇒ (c=5, h=24, w=24) : **(out_channels=5, kernel_size=(5, 3), padding=(9, 8))**\n",
        "\n",
        "*Determine the kernel that requires the smallest padding size to make the following mappings possible:*\n",
        "\n",
        "* (c=3, h=10, w=10) ⇒ (c=10, h=9, w=7) : **(out_channels=10, kernel_size=(2, 4), padding=(0, 0))**\n",
        "* (c=3, h=10, w=10) ⇒ (c=22, h=10, w=10) : **(out_channels=22, kernel_size=(1, 1), padding=(0, 0))**\n",
        "\n",
        "**TODO:**\n",
        "\n",
        "\n",
        "**DONE:**\n",
        "* Answer all the questions above "
      ]
    },
    {
      "cell_type": "code",
      "metadata": {
        "colab_type": "code",
        "id": "XXfG3wClh8an",
        "pycharm": {
          "is_executing": false
        },
        "colab": {
          "base_uri": "https://localhost:8080/",
          "height": 374
        },
        "outputId": "de6b35c7-88a1-49de-f865-17040def8498"
      },
      "source": [
        "# Using a Kernel size of 3×3 what should the settings of your 2d convolution be that results in the following mappings (first answer given to you)\n",
        "print(\"Kernel Size: 3x3\")\n",
        "c = nn.Conv2d(3, 10, kernel_size=(3, 3), padding=(0, 0))\n",
        "print('Should be 10x8x8: ', c(torch.zeros(1, 3, 10, 10)).size())\n",
        "c = nn.Conv2d(3, 22, kernel_size=(3, 3), padding=(1, 1))\n",
        "print('Should be 22x10x10: ', c(torch.zeros(1, 3, 10, 10)).size())\n",
        "c = nn.Conv2d(3, 65, kernel_size=(3, 3), padding=(2, 2))\n",
        "print('Should be 65x12x12: ', c(torch.zeros(1, 3, 10, 10)).size())\n",
        "c = nn.Conv2d(3, 7, kernel_size=(3, 3), padding=(6, 6))\n",
        "print('Should be 7x20x20: ', c(torch.zeros(1, 3, 10, 10)).size())\n",
        "\n",
        "# Using a Kernel size of 5×5:)\n",
        "print(\"\\nKernel Size: 5x5\")\n",
        "c = nn.Conv2d(3, 10, kernel_size=(5, 5), padding=(1, 1))\n",
        "print('Should be 10x8x8: ', c(torch.zeros(1, 3, 10, 10)).size())\n",
        "c = nn.Conv2d(3, 100, kernel_size=(5, 5), padding=(2, 2))\n",
        "print('Should be 100x10x10: ', c(torch.zeros(1, 3, 10, 10)).size())\n",
        "c = nn.Conv2d(3, 23, kernel_size=(5, 5), padding=(3, 3))\n",
        "print('Should be 23x12x12: ', c(torch.zeros(1, 3, 10, 10)).size())\n",
        "c = nn.Conv2d(3, 5, kernel_size=(5, 5), padding=(9, 9))\n",
        "print('Should be 5x24x24: ', c(torch.zeros(1, 3, 10, 10)).size())\n",
        "\n",
        "# Using a Kernel size of 5×3:\n",
        "print(\"\\nKernel Size: 5x3\")\n",
        "c = nn.Conv2d(3, 10, kernel_size=(5, 3), padding=(1, 0))\n",
        "print('Should be 10x8x8: ', c(torch.zeros(1, 3, 10, 10)).size())\n",
        "c = nn.Conv2d(3, 100, kernel_size=(5, 3), padding=(2, 1))\n",
        "print('Should be 100x10x10: ', c(torch.zeros(1, 3, 10, 10)).size())\n",
        "c = nn.Conv2d(3, 23, kernel_size=(5, 3), padding=(3, 2))\n",
        "print('Should be 23x12x12: ', c(torch.zeros(1, 3, 10, 10)).size())\n",
        "c = nn.Conv2d(3, 5, kernel_size=(5, 3), padding=(9, 8))\n",
        "print('Should be 5x24x24: ', c(torch.zeros(1, 3, 10, 10)).size())\n",
        "\n",
        "# Determine the kernel that requires the smallest padding size to make the following mappings possible:\n",
        "print(\"\\nKernel With The Smallest Padding Size\")\n",
        "c = nn.Conv2d(3, 10, kernel_size=(2, 4), padding=(0, 0))\n",
        "print('Should be 10x9x7: ', c(torch.zeros(1, 3, 10, 10)).size())\n",
        "c = nn.Conv2d(3, 22, kernel_size=(1, 1), padding=(0, 0))\n",
        "print('Should be 22x10x10: ', c(torch.zeros(1, 3, 10, 10)).size())\n",
        "\n"
      ],
      "execution_count": 172,
      "outputs": [
        {
          "output_type": "stream",
          "text": [
            "Kernel Size: 3x3\n",
            "Should be 10x8x8:  torch.Size([1, 10, 8, 8])\n",
            "Should be 22x10x10:  torch.Size([1, 22, 10, 10])\n",
            "Should be 65x12x12:  torch.Size([1, 65, 12, 12])\n",
            "Should be 7x20x20:  torch.Size([1, 7, 20, 20])\n",
            "\n",
            "Kernel Size: 5x5\n",
            "Should be 10x8x8:  torch.Size([1, 10, 8, 8])\n",
            "Should be 100x10x10:  torch.Size([1, 100, 10, 10])\n",
            "Should be 23x12x12:  torch.Size([1, 23, 12, 12])\n",
            "Should be 5x24x24:  torch.Size([1, 5, 24, 24])\n",
            "\n",
            "Kernel Size: 5x3\n",
            "Should be 10x8x8:  torch.Size([1, 10, 8, 8])\n",
            "Should be 100x10x10:  torch.Size([1, 100, 10, 10])\n",
            "Should be 23x12x12:  torch.Size([1, 23, 12, 12])\n",
            "Should be 5x24x24:  torch.Size([1, 5, 24, 24])\n",
            "\n",
            "Kernel With The Smallest Padding Size\n",
            "Should be 10x9x7:  torch.Size([1, 10, 9, 7])\n",
            "Should be 22x10x10:  torch.Size([1, 22, 10, 10])\n"
          ],
          "name": "stdout"
        }
      ]
    }
  ]
}