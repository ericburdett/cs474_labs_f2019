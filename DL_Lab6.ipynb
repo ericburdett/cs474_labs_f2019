{
  "nbformat": 4,
  "nbformat_minor": 0,
  "metadata": {
    "colab": {
      "name": "DL_Lab6.ipynb",
      "provenance": [],
      "collapsed_sections": [],
      "machine_shape": "hm"
    },
    "kernelspec": {
      "name": "python3",
      "display_name": "Python 3"
    },
    "language_info": {
      "codemirror_mode": {
        "name": "ipython",
        "version": 3
      },
      "file_extension": ".py",
      "mimetype": "text/x-python",
      "name": "python",
      "nbconvert_exporter": "python",
      "pygments_lexer": "ipython3",
      "version": "3.6.3"
    },
    "pycharm": {
      "stem_cell": {
        "cell_type": "raw",
        "metadata": {
          "collapsed": false
        },
        "source": []
      }
    },
    "accelerator": "GPU"
  },
  "cells": [
    {
      "cell_type": "markdown",
      "metadata": {
        "id": "DE8ElXCulbYL",
        "colab_type": "text"
      },
      "source": [
        "<a href=\"https://colab.research.google.com/github/ericburdett/cs474_labs_f2019/blob/master/DL_Lab6.ipynb\" target=\"_parent\"><img src=\"https://colab.research.google.com/assets/colab-badge.svg\" alt=\"Open In Colab\"/></a>"
      ]
    },
    {
      "cell_type": "markdown",
      "metadata": {
        "colab_type": "text",
        "id": "cksgAH12XRjV"
      },
      "source": [
        "# Lab 6: Sequence-to-sequence models\n",
        "\n",
        "## Description:\n",
        "For this lab, you will code up the [char-rnn model of Karpathy](http://karpathy.github.io/2015/05/21/rnn-effectiveness/). This is a recurrent neural network that is trained probabilistically on sequences of characters, and that can then be used to sample new sequences that are like the original.\n",
        "\n",
        "This lab will help you develop several new skills, as well as understand some best practices needed for building large models. In addition, we'll be able to create networks that generate neat text!\n",
        "\n",
        "## There are two parts of this lab:\n",
        "###  1.   Wiring up a basic sequence-to-sequence computation graph\n",
        "###  2.   Implementing your own GRU cell.\n",
        "\n",
        "\n",
        "An example of my final samples are shown below (more detail in the\n",
        "final section of this writeup), after 150 passes through the data.\n",
        "Please generate about 15 samples for each dataset.\n",
        "\n",
        "<code>\n",
        "And ifte thin forgision forward thene over up to a fear not your\n",
        "And freitions, which is great God. Behold these are the loss sub\n",
        "And ache with the Lord hath bloes, which was done to the holy Gr\n",
        "And appeicis arm vinimonahites strong in name, to doth piseling \n",
        "And miniquithers these words, he commanded order not; neither sa\n",
        "And min for many would happine even to the earth, to said unto m\n",
        "And mie first be traditions? Behold, you, because it was a sound\n",
        "And from tike ended the Lamanites had administered, and I say bi\n",
        "</code>\n"
      ]
    },
    {
      "cell_type": "markdown",
      "metadata": {
        "colab_type": "text",
        "id": "c2i_QpSsWG4c"
      },
      "source": [
        "---\n",
        "\n",
        "## Part 0: Readings, data loading, and high level training\n",
        "\n",
        "---\n",
        "\n",
        "There is a tutorial here that will help build out scaffolding code, and get an understanding of using sequences in pytorch.\n",
        "\n",
        "* Read the following\n",
        "\n",
        "> * [Pytorch sequence-to-sequence tutorial](https://pytorch.org/tutorials/intermediate/seq2seq_translation_tutorial.html)\n",
        "* [Understanding LSTM Networks](http://colah.github.io/posts/2015-08-Understanding-LSTMs/)\n",
        "\n",
        "\n",
        "\n",
        "\n"
      ]
    },
    {
      "cell_type": "code",
      "metadata": {
        "colab_type": "code",
        "id": "l7bdZWxvJrsx",
        "outputId": "6f155b66-4fe4-4b7f-85c9-ac0be676abb1",
        "colab": {
          "base_uri": "https://localhost:8080/",
          "height": 401
        }
      },
      "source": [
        "! wget -O ./text_files.tar.gz 'https://piazza.com/redirect/s3?bucket=uploads&prefix=attach%2Fjlifkda6h0x5bk%2Fhzosotq4zil49m%2Fjn13x09arfeb%2Ftext_files.tar.gz' \n",
        "! tar -xzf text_files.tar.gz\n",
        "! pip install unidecode\n",
        "! pip install torch\n",
        "\n",
        "import unidecode\n",
        "import string\n",
        "import random\n",
        "import re\n",
        " \n",
        "import pdb\n",
        " \n",
        "all_characters = string.printable\n",
        "n_characters = len(all_characters)\n",
        "file = unidecode.unidecode(open('./text_files/lotr.txt').read())\n",
        "file_len = len(file)\n",
        "print('file_len =', file_len)\n",
        "\n",
        "shake_file = unidecode.unidecode(open('./text_files/tiny_shakespeare.txt').read())\n",
        "shake_file_len = len(shake_file)\n",
        "print('shake_file_len=', shake_file_len)"
      ],
      "execution_count": 1,
      "outputs": [
        {
          "output_type": "stream",
          "text": [
            "--2019-10-20 06:27:27--  https://piazza.com/redirect/s3?bucket=uploads&prefix=attach%2Fjlifkda6h0x5bk%2Fhzosotq4zil49m%2Fjn13x09arfeb%2Ftext_files.tar.gz\n",
            "Resolving piazza.com (piazza.com)... 34.205.95.128, 52.45.119.166, 52.2.48.133, ...\n",
            "Connecting to piazza.com (piazza.com)|34.205.95.128|:443... connected.\n",
            "HTTP request sent, awaiting response... 302 Found\n",
            "Location: https://d1b10bmlvqabco.cloudfront.net/attach/jlifkda6h0x5bk/hzosotq4zil49m/jn13x09arfeb/text_files.tar.gz [following]\n",
            "--2019-10-20 06:27:27--  https://d1b10bmlvqabco.cloudfront.net/attach/jlifkda6h0x5bk/hzosotq4zil49m/jn13x09arfeb/text_files.tar.gz\n",
            "Resolving d1b10bmlvqabco.cloudfront.net (d1b10bmlvqabco.cloudfront.net)... 13.224.217.34, 13.224.217.219, 13.224.217.42, ...\n",
            "Connecting to d1b10bmlvqabco.cloudfront.net (d1b10bmlvqabco.cloudfront.net)|13.224.217.34|:443... connected.\n",
            "HTTP request sent, awaiting response... 200 OK\n",
            "Length: 1533290 (1.5M) [application/x-gzip]\n",
            "Saving to: ‘./text_files.tar.gz’\n",
            "\n",
            "\r./text_files.tar.gz   0%[                    ]       0  --.-KB/s               \r./text_files.tar.gz 100%[===================>]   1.46M  --.-KB/s    in 0.04s   \n",
            "\n",
            "2019-10-20 06:27:27 (32.5 MB/s) - ‘./text_files.tar.gz’ saved [1533290/1533290]\n",
            "\n",
            "Requirement already satisfied: unidecode in /usr/local/lib/python3.6/dist-packages (1.1.1)\n",
            "Requirement already satisfied: torch in /usr/local/lib/python3.6/dist-packages (1.3.0+cu100)\n",
            "Requirement already satisfied: numpy in /usr/local/lib/python3.6/dist-packages (from torch) (1.16.5)\n",
            "file_len = 2579888\n",
            "shake_file_len= 1115394\n"
          ],
          "name": "stdout"
        }
      ]
    },
    {
      "cell_type": "code",
      "metadata": {
        "colab_type": "code",
        "id": "TxBeKeNjJ0NQ",
        "outputId": "5eeb1348-7b2e-4596-fd3a-93b116243408",
        "colab": {
          "base_uri": "https://localhost:8080/",
          "height": 207
        }
      },
      "source": [
        "chunk_len = 200\n",
        " \n",
        "def random_chunk():\n",
        "  start_index = random.randint(0, file_len - chunk_len)\n",
        "  end_index = start_index + chunk_len + 1\n",
        "  return file[start_index:end_index]\n",
        "\n",
        "def shake_random_chunk():\n",
        "  start_index = random.randint(0, shake_file_len - chunk_len)\n",
        "  end_index = start_index + chunk_len + 1\n",
        "  return shake_file[start_index:end_index]\n",
        "  \n",
        "print(random_chunk())\n",
        "print(shake_random_chunk())"
      ],
      "execution_count": 2,
      "outputs": [
        {
          "output_type": "stream",
          "text": [
            "d looking with disgust at the \n",
            "carved handle: it had been shaped like a hideous head with squinting eyes \n",
            "and leering mouth. \n",
            "\n",
            "'Well, here is the strangest riddle that we have yet found!' exclaimed \n",
            "Le\n",
            " Yet I well remember\n",
            "The favours of these men: were they not mine?\n",
            "Did they not sometime cry, 'all hail!' to me?\n",
            "So Judas did to Christ: but he, in twelve,\n",
            "Found truth in all but one: I, in twelve thou\n"
          ],
          "name": "stdout"
        }
      ]
    },
    {
      "cell_type": "code",
      "metadata": {
        "colab_type": "code",
        "id": "On0_WitWJ99e",
        "outputId": "6ef1ee7f-e55a-49f0-e490-9c66d13da0de",
        "colab": {
          "base_uri": "https://localhost:8080/",
          "height": 34
        }
      },
      "source": [
        "import torch\n",
        "# Turn string into list of longs\n",
        "def char_tensor(string):\n",
        "  tensor = torch.zeros(len(string)).long()\n",
        "  for c in range(len(string)):\n",
        "      tensor[c] = all_characters.index(string[c])\n",
        "  return tensor\n",
        "\n",
        "print(char_tensor('abcDEF'))"
      ],
      "execution_count": 3,
      "outputs": [
        {
          "output_type": "stream",
          "text": [
            "tensor([10, 11, 12, 39, 40, 41])\n"
          ],
          "name": "stdout"
        }
      ]
    },
    {
      "cell_type": "markdown",
      "metadata": {
        "colab_type": "text",
        "id": "CYJPTLcaYmfI"
      },
      "source": [
        "---\n",
        "\n",
        "## Part 4: Creating your own GRU cell \n",
        "\n",
        "**(Come back to this later - its defined here so that the GRU will be defined before it is used)**\n",
        "\n",
        "---\n",
        "\n",
        "The cell that you used in Part 1 was a pre-defined Pytorch layer. Now, write your own GRU class using the same parameters as the built-in Pytorch class does.\n",
        "\n",
        "Please try not to look at the GRU cell definition. The answer is right there in the code, and in theory, you could just cut-and-paste it. This bit is on your honor!\n",
        "\n",
        "**TODO:**\n",
        "\n",
        "**DONE:**\n",
        "* Create a custom GRU cell\n"
      ]
    },
    {
      "cell_type": "code",
      "metadata": {
        "colab_type": "code",
        "id": "aavAv50ZKQ-F",
        "colab": {}
      },
      "source": [
        "import torch\n",
        "import torch.nn as nn\n",
        "import torch.nn.functional as F\n",
        "\n",
        "# Each layer does the following:\n",
        "# r_t = sigmoid(W_ir*x_t + b_ir + W_hr*h_(t-1) + b_hr)\n",
        "# z_t = sigmoid(W_iz*x_t + b_iz + W_hz*h_(t-1) + b_hz)\n",
        "# n_t = tanh(W_in*x_t + b_in + r_t**(W_hn*h_(t-1) + b_hn))\n",
        "# h_(t) = (1 - z_t)**n_t + z_t**h_(t-1)\n",
        "# Where ** is hadamard product (not matrix multiplication, but elementwise multiplication)\n",
        "class GRU(nn.Module):\n",
        "  def __init__(self, input_size, hidden_size, num_layers):\n",
        "    super(GRU, self).__init__()\n",
        "    \n",
        "    self.w_ir = nn.Linear(input_size, hidden_size)\n",
        "    self.w_hr = nn.Linear(hidden_size, hidden_size)\n",
        "    self.w_iz = nn.Linear(input_size, hidden_size)\n",
        "    self.w_hz = nn.Linear(hidden_size, hidden_size)\n",
        "    self.w_in = nn.Linear(input_size, hidden_size)\n",
        "    self.w_hn = nn.Linear(hidden_size, hidden_size)\n",
        "    \n",
        "    self.sigmoid = nn.Sigmoid()\n",
        "    self.tanh = nn.Tanh()\n",
        "  \n",
        "  def forward(self, inputs, hidden):\n",
        "    \n",
        "    r_t = self.sigmoid(self.w_ir(inputs) + self.w_hr(hidden))\n",
        "    z_t = self.sigmoid(self.w_iz(inputs) + self.w_hz(hidden))\n",
        "    \n",
        "    n_t = self.tanh(self.w_in(inputs) + torch.mul(r_t, self.w_hn(hidden)))\n",
        "    h_t = torch.mul(1 - z_t, n_t) + torch.mul(z_t, hidden)\n",
        "    \n",
        "    return h_t[-1:], h_t\n",
        "  \n"
      ],
      "execution_count": 0,
      "outputs": []
    },
    {
      "cell_type": "code",
      "metadata": {
        "colab_type": "code",
        "id": "77ihHoC0gcEn",
        "colab": {}
      },
      "source": [
        ""
      ],
      "execution_count": 0,
      "outputs": []
    },
    {
      "cell_type": "markdown",
      "metadata": {
        "colab_type": "text",
        "id": "qtXdX-B_WiAY"
      },
      "source": [
        "---\n",
        "\n",
        "##  Part 1: Building a sequence to sequence model\n",
        "\n",
        "---\n",
        "\n",
        "Great! We have the data in a useable form. We can switch out which text file we are reading from, and trying to simulate.\n",
        "\n",
        "We now want to build out an RNN model, in this section, we will use all built in Pytorch pieces when building our RNN class.\n",
        "\n",
        "\n",
        "**TODO:**\n",
        "\n",
        "**DONE:**\n",
        "* Create an RNN class that extends from nn.Module.\n"
      ]
    },
    {
      "cell_type": "code",
      "metadata": {
        "colab_type": "code",
        "id": "d6tNdEnzWj5F",
        "colab": {}
      },
      "source": [
        "class RNN(nn.Module):\n",
        "  def __init__(self, input_size, hidden_size, output_size, n_layers=1):\n",
        "    super(RNN, self).__init__()\n",
        "    self.input_size = input_size\n",
        "    self.hidden_size = hidden_size\n",
        "    self.output_size = output_size\n",
        "    self.n_layers = n_layers\n",
        "    \n",
        "    self.embed = nn.Embedding(n_characters, hidden_size)\n",
        "    self.gru = GRU(input_size=hidden_size, hidden_size=hidden_size, num_layers=n_layers)\n",
        "    self.relu = nn.ReLU()\n",
        "    self.linear = nn.Linear(self.hidden_size, self.output_size)\n",
        "    \n",
        "    # more stuff here...\n",
        "\n",
        "  def forward(self, input_char, hidden):\n",
        "    embedding = self.embed(input_char).unsqueeze(0).unsqueeze(0)\n",
        "    out_decoded, hidden = self.gru(embedding, hidden)\n",
        "    linear_out = self.linear(out_decoded)\n",
        "    output = self.relu(linear_out)\n",
        "\n",
        "    # by reviewing the documentation, construct a forward function that properly uses the output\n",
        "    # of the GRU\n",
        "\n",
        "    # stuff here\n",
        "    \n",
        "    return output, hidden\n",
        "\n",
        "  def init_hidden(self):\n",
        "    return torch.zeros(self.n_layers, 1, self.hidden_size)"
      ],
      "execution_count": 0,
      "outputs": []
    },
    {
      "cell_type": "code",
      "metadata": {
        "colab_type": "code",
        "id": "hrhXghEPKD-5",
        "colab": {}
      },
      "source": [
        "def random_training_set():    \n",
        "  chunk = random_chunk()\n",
        "  inp = char_tensor(chunk[:-1])\n",
        "  target = char_tensor(chunk[1:])\n",
        "  return inp, target\n",
        "\n",
        "def shake_random_training_set():\n",
        "  chunk = shake_random_chunk()\n",
        "  inp = char_tensor(chunk[:-1])\n",
        "  target = char_tensor(chunk[1:])\n",
        "  return inp, target"
      ],
      "execution_count": 0,
      "outputs": []
    },
    {
      "cell_type": "markdown",
      "metadata": {
        "colab_type": "text",
        "id": "ZpiGObbBX0Mr"
      },
      "source": [
        "---\n",
        "\n",
        "## Part 2: Sample text and Training information\n",
        "\n",
        "---\n",
        "\n",
        "We now want to be able to train our network, and sample text after training.\n",
        "\n",
        "This function outlines how training a sequence style network goes. \n",
        "\n",
        "**TODO:**\n",
        "\n",
        "**DONE:**\n",
        "* Fill in the pieces.\n",
        "\n"
      ]
    },
    {
      "cell_type": "code",
      "metadata": {
        "colab_type": "code",
        "id": "2ALC3Pf8Kbsi",
        "colab": {}
      },
      "source": [
        "input_size = n_characters\n",
        "hidden_size = 200\n",
        "output_size = n_characters\n",
        "n_layers = 3\n",
        "  \n",
        "decoder = RNN(input_size=input_size, hidden_size=hidden_size,\n",
        "              output_size=output_size, n_layers=n_layers)\n",
        "decoder_optimizer = torch.optim.Adam(decoder.parameters(), lr=1e-3)\n",
        "objective = nn.CrossEntropyLoss()\n",
        "\n",
        "def train(inp, target):\n",
        "  # initialize hidden state\n",
        "  hidden = decoder.init_hidden()\n",
        "  decoder_optimizer.zero_grad()\n",
        "  \n",
        "  loss = 0\n",
        "  \n",
        "  for char, next_char in zip(inp, target):\n",
        "\n",
        "    # make prediction, get next hidden state\n",
        "    pred, hidden = decoder(char, hidden)\n",
        "\n",
        "    # compute the loss\n",
        "    loss += objective(pred.squeeze(0), next_char.unsqueeze(0))\n",
        "\n",
        "  # update the network\n",
        "  loss.backward()\n",
        "    \n",
        "  decoder_optimizer.step()\n",
        "    \n",
        "  return loss / len(inp)"
      ],
      "execution_count": 0,
      "outputs": []
    },
    {
      "cell_type": "code",
      "metadata": {
        "id": "BFFOB86v-2Ar",
        "colab_type": "code",
        "outputId": "c1cc70e8-17ba-489a-9bde-93c7c04116eb",
        "colab": {
          "base_uri": "https://localhost:8080/",
          "height": 34
        }
      },
      "source": [
        "import gc\n",
        "gc.collect()"
      ],
      "execution_count": 0,
      "outputs": [
        {
          "output_type": "execute_result",
          "data": {
            "text/plain": [
              "769"
            ]
          },
          "metadata": {
            "tags": []
          },
          "execution_count": 29
        }
      ]
    },
    {
      "cell_type": "markdown",
      "metadata": {
        "colab_type": "text",
        "id": "EN06NUu3YRlz"
      },
      "source": [
        "---\n",
        "\n",
        "## Part 3: Sample text and Training information\n",
        "\n",
        "---\n",
        "\n",
        "You can at this time, if you choose, also write out your train loop boilerplate that samples random sequences and trains your RNN. This will be helpful to have working before writing your own GRU class.\n",
        "\n",
        "If you are finished training, or during training, and you want to sample from the network you may consider using the following function. If your RNN model is instantiated as `decoder`then this will probabilistically sample a sequence of length `predict_len`\n",
        "\n",
        "**TODO:**\n",
        "\n",
        "**DONE:**\n",
        "* Fill out the evaluate function to generate text frome a primed string\n"
      ]
    },
    {
      "cell_type": "code",
      "metadata": {
        "colab_type": "code",
        "id": "B-bp-OZ1KjNh",
        "colab": {}
      },
      "source": [
        "def evaluate(prime_str='A', predict_len=100, temperature=0.8):\n",
        "  ## initialize hidden state, initialize other useful variables\n",
        "    # your code here\n",
        "  ## /\n",
        "  \n",
        "  with torch.no_grad():\n",
        "    prime_tensor = char_tensor(prime_str)\n",
        "\n",
        "    # Priming\n",
        "    hidden = torch.zeros(n_layers, 1, hidden_size)\n",
        "    character = char_tensor('')\n",
        "    for char in prime_tensor:\n",
        "      character, hidden = decoder(char, hidden)\n",
        "\n",
        "    probs = F.softmax(character.squeeze(0).squeeze(0) / temperature, dim=0)\n",
        "    character = torch.multinomial(probs, 1).squeeze(0)\n",
        "\n",
        "    for _ in range(predict_len):\n",
        "      character, hidden = decoder(character, hidden)\n",
        "      probs = F.softmax(character.squeeze(0).squeeze(0) / temperature, dim=0)\n",
        "      character = torch.multinomial(probs, 1).squeeze(0)\n",
        "      prime_str += all_characters[character.item()]\n",
        "\n",
        "\n",
        "  return prime_str.replace('\\n', ' ')"
      ],
      "execution_count": 0,
      "outputs": []
    },
    {
      "cell_type": "markdown",
      "metadata": {
        "colab_type": "text",
        "id": "Du4AGA8PcFEW"
      },
      "source": [
        "---\n",
        "\n",
        "## Part 4: (Create a GRU cell, requirements above)\n",
        "\n",
        "---\n"
      ]
    },
    {
      "cell_type": "markdown",
      "metadata": {
        "colab_type": "text",
        "id": "GFS2bpHSZEU6"
      },
      "source": [
        "\n",
        "---\n",
        "\n",
        "## Part 5: Run it and generate some text!\n",
        "\n",
        "---\n",
        "\n",
        "Assuming everything has gone well, you should be able to run the main function in the scaffold code, using either your custom GRU cell or the built in layer, and see output something like this. I trained on the “lotr.txt” dataset, using chunk_length=200, hidden_size=100 for 2000 epochs gave.\n",
        "\n",
        "**TODO:** \n",
        "\n",
        "**DONE:**\n",
        "* Create some cool output\n"
      ]
    },
    {
      "cell_type": "code",
      "metadata": {
        "colab_type": "code",
        "id": "-nXFeCmdKodw",
        "colab": {}
      },
      "source": [
        "import time\n",
        "import gc\n",
        "n_epochs = 4000\n",
        "print_every = 100\n",
        "plot_every = 10\n",
        "# hidden_size = 200\n",
        "# n_layers = 3\n",
        "# lr = 0.001\n",
        " \n",
        "# decoder = RNN(n_characters, hidden_size, n_characters, n_layers)\n",
        "# decoder_optimizer = torch.optim.Adam(decoder.parameters(), lr=lr)\n",
        "# criterion = nn.CrossEntropyLoss()\n",
        " \n",
        "start = time.time()\n",
        "all_losses = []\n",
        "loss_avg = 0"
      ],
      "execution_count": 0,
      "outputs": []
    },
    {
      "cell_type": "code",
      "metadata": {
        "colab_type": "code",
        "id": "xKfozqw-6eqb",
        "outputId": "7d817dc3-a664-4efd-b9ae-fb4a6206c96f",
        "colab": {
          "base_uri": "https://localhost:8080/",
          "height": 1000
        }
      },
      "source": [
        "for epoch in range(1, n_epochs + 1):\n",
        "  \n",
        "  loss_ = train(*random_training_set())       \n",
        "  loss_avg += loss_\n",
        "\n",
        "  if epoch % print_every == 0:\n",
        "    print('[%s (%d %d%%) %.4f]' % (time.time() - start, epoch, epoch / n_epochs * 100, loss_))\n",
        "    print(evaluate('Wh', 100, .6), '\\n')\n",
        "\n",
        "  if epoch % plot_every == 0:\n",
        "      all_losses.append(loss_avg / plot_every)\n",
        "      loss_avg = 0"
      ],
      "execution_count": 10,
      "outputs": [
        {
          "output_type": "stream",
          "text": [
            "[40.44374442100525 (100 2%) 2.3414]\n",
            "Wh the in ward tood 'ard wad of selars ther and sad the ther the       louth the suther sat are share  \n",
            "\n",
            "[76.23829865455627 (200 5%) 2.0883]\n",
            "Wht to that this the mame was stime shist in fore seain and thin in the hat the cac that in the las fe \n",
            "\n",
            "[112.11902451515198 (300 7%) 2.4698]\n",
            "Whs the his coutter sain of to he lurtey sais and the he hind ande the so the for the was has  it wish \n",
            "\n",
            "[148.0571267604828 (400 10%) 2.1934]\n",
            "Wh fror store. 'But stin~ine flook in the sur the din the said and of the coure the urin; sto he the s \n",
            "\n",
            "[183.99544072151184 (500 12%) 2.2435]\n",
            "Whre as more all all and and ale no so the now for here the fire and it and the in the wark, and the w \n",
            "\n",
            "[219.84898447990417 (600 15%) 2.0871]\n",
            "WhnC, and to reant of mes and  streen and head the can were have rom  has the han clound said flet Fro \n",
            "\n",
            "[255.75043559074402 (700 17%) 1.9547]\n",
            "Whn shall should and leace the swere has and lime rours, sordin the shold with in the shall. 'That wil \n",
            "\n",
            "[291.78208351135254 (800 20%) 2.0080]\n",
            "Wht the feel a still the                                                                      hainst o \n",
            "\n",
            "[327.7107284069061 (900 22%) 1.7991]\n",
            "Whd the end the laid us a lowmen the shadow said. 'Tany to the have that the down that the fer the som \n",
            "\n",
            "[363.8392837047577 (1000 25%) 2.1141]\n",
            "Whr hounsered of they with had a on hill  will worn and seement to his said ~own your a could a  sinki \n",
            "\n",
            "[400.1775233745575 (1100 27%) 1.8944]\n",
            "Whre the  the  share then the dil with had near wand the  while we still no steed the will him it stil \n",
            "\n",
            "[436.0824568271637 (1200 30%) 1.6031]\n",
            "Wh the will me foor the $lacked the sundall the (aramint and the vied of the my in the  losted the sto \n",
            "\n",
            "[472.23388838768005 (1300 32%) 1.8760]\n",
            "Wh steed all the many  yes of we  ?' said Frodow lonk and stride  mearin. dow the did it the most the  \n",
            "\n",
            "[508.536967754364 (1400 35%) 1.8558]\n",
            "Whre to the tran8       for, the left the would neaden the mist are to on the muchen too were was a lo \n",
            "\n",
            "[544.6137673854828 (1500 37%) 1.7726]\n",
            "Whre 'he came as the 2ad, and out was will           [ra+ss. Frodo, and was swent  to the sun of the t \n",
            "\n",
            "[580.710351228714 (1600 40%) 1.7273]\n",
            "Whn  was new they had not on a tood held the said and hores of the his could said- and darned   came o \n",
            "\n",
            "[616.9329791069031 (1700 42%) 1.5564]\n",
            "Whre stower strance  at are fermany, and the stead and firch they said Brom we said he shall sheered w \n",
            "\n",
            "[652.8844413757324 (1800 45%) 1.8380]\n",
            "Whnd. 'But you have he dow they                                                       of the word your \n",
            "\n",
            "[688.7999229431152 (1900 47%) 1.8964]\n",
            "Whre 9llow.   'But you went had a little many into the  from the will any are a time was the was and l \n",
            "\n",
            "[724.5436477661133 (2000 50%) 1.8070]\n",
            "Why shadows his  to the  road all one the son of the  could did not seemed the rince they sered the ma \n",
            "\n",
            "[760.5398466587067 (2100 52%) 1.7839]\n",
            "Wht under the roads and that he said sether stronce and to see all shall over for stand.   'There what \n",
            "\n",
            "[796.4524354934692 (2200 55%) 1.6687]\n",
            "Whre to you deen and the  mark is  shire like as  side as not was all they crowinJs of the  was it wit \n",
            "\n",
            "[832.3977043628693 (2300 57%) 1.7981]\n",
            "WhnI they call Xhan his may the  the 7id not alones of the sick.   'Gandalf, and the  ster the foraint \n",
            "\n",
            "[868.3791034221649 (2400 60%) 1.5772]\n",
            "Whre with hat he sent, they willow son, for the males, and the ever lookind have not sicker of they fi \n",
            "\n",
            "[904.3135344982147 (2500 62%) 1.7809]\n",
            "Whnk to the larded to he had a had all in the side with a sine and the moundinus and a sine was  hall  \n",
            "\n",
            "[940.3826849460602 (2600 65%) 1.6092]\n",
            "Whr been at ban the more on that has me touth of his  one of the us had and it with said and first the \n",
            "\n",
            "[976.3972661495209 (2700 67%) 1.7027]\n",
            "Whre was a trees and is if he would he said. 'The was looked and the horse was are you said it was see \n",
            "\n",
            "[1012.6960656642914 (2800 70%) 1.6105]\n",
            "Whr stood the filled the leady about the rain of still  walked in the star it was  be see the fies see \n",
            "\n",
            "[1048.8380811214447 (2900 72%) 1.8213]\n",
            "Whr before the >araned to the ]seen in the east. For all the one and there went that we  could them.   \n",
            "\n",
            "[1084.7547254562378 (3000 75%) 1.6969]\n",
            "Wh down a shall not when the hild and his some the think the land the once hord and hand the jadeness  \n",
            "\n",
            "[1120.7021090984344 (3100 77%) 1.9295]\n",
            "Wht hear have have and desire you should for the      for at litted on the first for be seem with and  \n",
            "\n",
            "[1156.7057650089264 (3200 80%) 1.7277]\n",
            "Wh collowed the by the land us eyes and the since mean cloud, to the more seemed the rose from a sword \n",
            "\n",
            "[1192.5867202281952 (3300 82%) 1.7518]\n",
            "Whn$s of the stormind. All the horse of on his will seemed lands the end the  there to a brow not stre \n",
            "\n",
            "[1228.504052400589 (3400 85%) 1.8249]\n",
            "Wht the to  falled he all he ansence and means to  that the  course far as he well  in  the  Kinin~eth \n",
            "\n",
            "[1264.5574283599854 (3500 87%) 1.5331]\n",
            "Whre lone of the store from the host as  the land to a read the rink him been the hilliness  from the  \n",
            "\n",
            "[1300.7172048091888 (3600 90%) 1.6288]\n",
            "Whre the stood after the  wondle of the now to him and  him, and a turned.   There was a have to the t \n",
            "\n",
            "[1336.7584664821625 (3700 92%) 1.7018]\n",
            "Whre Ladily of what the shall fear slowly before the fore of stood before the men the dead the stand t \n",
            "\n",
            "[1372.7461943626404 (3800 95%) 1.8989]\n",
            "Wht he had down  not and they were lazed follow me,'   they knaws to the dark in the sun behind it mar \n",
            "\n",
            "[1408.777048587799 (3900 97%) 1.4794]\n",
            "Whr and stood come to a courtains  to the men the stank the  best she any norther the could untwards t \n",
            "\n",
            "[1444.5954148769379 (4000 100%) 1.6182]\n",
            "Wht reams                                             3ittle of the day. 'the got you days and they sa \n",
            "\n"
          ],
          "name": "stdout"
        }
      ]
    },
    {
      "cell_type": "code",
      "metadata": {
        "id": "-1oJGHL_zdjo",
        "colab_type": "code",
        "colab": {
          "base_uri": "https://localhost:8080/",
          "height": 295
        },
        "outputId": "4e62b053-74d4-4b00-f4f3-d70ce6c14647"
      },
      "source": [
        "import matplotlib.pyplot as plt\n",
        "\n",
        "plt.title('Lord of the Rings Loss')\n",
        "plt.xlabel('Epochs')\n",
        "plt.ylabel('Loss')\n",
        "plt.plot([i * plot_every for i in range(len(all_losses))], all_losses)\n",
        "plt.show()"
      ],
      "execution_count": 13,
      "outputs": [
        {
          "output_type": "display_data",
          "data": {
            "image/png": "[encoded data removed]",
            "text/plain": [
              "<Figure size 432x288 with 1 Axes>"
            ]
          },
          "metadata": {
            "tags": []
          }
        }
      ]
    },
    {
      "cell_type": "markdown",
      "metadata": {
        "id": "OimTh2rx7KM1",
        "colab_type": "text"
      },
      "source": [
        "## Lord of the Rings Examples"
      ]
    },
    {
      "cell_type": "code",
      "metadata": {
        "colab_type": "code",
        "id": "Ee0so6aKJ5L8",
        "colab": {
          "base_uri": "https://localhost:8080/",
          "height": 557
        },
        "outputId": "f01dc800-2ff8-4fb0-9ace-142957620e38"
      },
      "source": [
        "for i in range(10):\n",
        "  start_strings = [\" Th\", \" wh\", \" he\", \" I \", \" ca\", \" G\", \" lo\", \" ra\"]\n",
        "  start = random.randint(0,len(start_strings)-1)\n",
        "  print(start_strings[start])\n",
        "#   all_characters.index(string[c])\n",
        "  print(evaluate(start_strings[start], 200), '\\n')"
      ],
      "execution_count": 14,
      "outputs": [
        {
          "output_type": "stream",
          "text": [
            " lo\n",
            " log bore a my have if   thriends on it  come water. 'He as make a reed that was in discouting was wanged, and they went a mow have your drang  we have more got them, and could. The are use $ it others o \n",
            "\n",
            " ra\n",
            " rags to his than if a sheelest ever undelly.'   ') down to good as it a door to deem, and side. @be a looking to shifter and side have head and ready, and well followed, he with the Kings and tried of t \n",
            "\n",
            " G\n",
            " Gndalf remen than  a great now courselfuling that could as a stood stood the eard. The got flower the Brom they strees, and they came wall.'   That foven with a loed.   That hobbit in the  made holdshe \n",
            "\n",
            " he\n",
            " herter  any a followed that the ! must leavy his way for a dead, and stood going that  <urneys; and days of they surned to gragon; mey falling aboutly like enetcher. Then shut gone dirce a biright  take \n",
            "\n",
            " wh\n",
            " whte For mean to  me to reat norting in then to the +ar cragch. 0ear talks at a battle. Feady learned steeburce \\ank of it old dried-Brou%d and any tried he as one  and through Xame  was stood. The grin \n",
            "\n",
            " lo\n",
            " lok good a cloom and in with the battle and cry with  that you sill  of the been to the >arry, anQuess, and the end grower that good, he will me to day and lite got  at lettlanF   anyway to any made goo \n",
            "\n",
            " wh\n",
            " whtter four same would not sent of your Gondor dids and  that's this more a  river was brought belace ut helder his  moment of these heach back or they before to the          *ag all from the  ansark hi \n",
            "\n",
            " Th\n",
            " Th grassed not there a are to the diven that he weal.   'The find the garning astent   uneards that know make they  mings look a did name, and  we have said it  wish have night that my gowards to  they  \n",
            "\n",
            " wh\n",
            " wht id  as the east, and the better the did not  right after. Zore went at like a go men near way that way of  this flith any, and day, for the way. He says and all a ma`kly to we \felt alone the gleashi \n",
            "\n",
            " ca\n",
            " cae a  with between to mellien, and thoughtter tess aste found.   'Some 8   &own but  have no truads and that is dishrang to was sobar astomen  back, we go were some  off that found, 5            Any la \n",
            "\n"
          ],
          "name": "stdout"
        }
      ]
    },
    {
      "cell_type": "markdown",
      "metadata": {
        "colab_type": "text",
        "id": "YJhgDc2IauPE"
      },
      "source": [
        "---\n",
        "\n",
        "## Part 6: Generate output on a different dataset\n",
        "\n",
        "---\n",
        "\n",
        "**TODO:**\n",
        "\n",
        "**DONE:**\n",
        "\n",
        "* Choose a textual dataset. Here are some [text datasets](https://www.kaggle.com/datasets?tags=14104-text+data%2C13205-text+mining) from Kaggle \n",
        "\n",
        "* Generate some decent looking results and evaluate your model's performance (say what it did well / not so well)"
      ]
    },
    {
      "cell_type": "code",
      "metadata": {
        "id": "Q2nkTDSNuOmV",
        "colab_type": "code",
        "colab": {
          "base_uri": "https://localhost:8080/",
          "height": 1000
        },
        "outputId": "cb90730b-fdbd-46bb-9f9a-98c0c951372b"
      },
      "source": [
        "input_size = n_characters\n",
        "hidden_size = 200\n",
        "output_size = n_characters\n",
        "n_layers = 3\n",
        "  \n",
        "decoder = RNN(input_size=input_size, hidden_size=hidden_size,\n",
        "              output_size=output_size, n_layers=n_layers)\n",
        "decoder_optimizer = torch.optim.Adam(decoder.parameters(), lr=1e-3)\n",
        "objective = nn.CrossEntropyLoss()\n",
        "\n",
        "shake_start = time.time()\n",
        "shake_all_losses = []\n",
        "shake_loss_avg = 0\n",
        "\n",
        "for epoch in range(1, n_epochs + 1):\n",
        "  \n",
        "  shake_loss_ = train(*shake_random_training_set())       \n",
        "  shake_loss_avg += shake_loss_\n",
        "\n",
        "  if epoch % print_every == 0:\n",
        "    print('[%s (%d %d%%) %.4f]' % (time.time() - shake_start, epoch, epoch / n_epochs * 100, shake_loss_))\n",
        "    print(evaluate('Wh', 100, .6), '\\n')\n",
        "\n",
        "  if epoch % plot_every == 0:\n",
        "      shake_all_losses.append(shake_loss_avg / plot_every)\n",
        "      shake_loss_avg = 0"
      ],
      "execution_count": 16,
      "outputs": [
        {
          "output_type": "stream",
          "text": [
            "Using custom GRU\n",
            "[35.80942416191101 (100 2%) 2.4862]\n",
            "Whd sta, and the that therof pou the cot thats meat the tou thoust the bene me lance pon I int  IBA: 4 \n",
            "\n",
            "[71.38724660873413 (200 5%) 2.3574]\n",
            "Whr hen myo loen ano the you in thease be at the me the of he all sho mou saras that in of thou and fo \n",
            "\n",
            "[107.32283234596252 (300 7%) 2.1115]\n",
            "Whn, you and, you that the mose our beestine tor in iso the man the hean the fort thou the for be to l \n",
            "\n",
            "[142.74453139305115 (400 10%) 2.0327]\n",
            "Whd wein to mad of not thou st weat with the dethems the come the thee sir were an the you had soul th \n",
            "\n",
            "[178.83712458610535 (500 12%) 2.0804]\n",
            "Whr the the him.  COLUCELNIO: So comed that you been this the to me hat the dintose the to will for th \n",
            "\n",
            "[215.12371921539307 (600 15%) 2.0591]\n",
            "Wh houl my a your to the dout come and, we the shall day, Thuse hand shtis may of tre, Thet be my dead \n",
            "\n",
            "[250.76790189743042 (700 17%) 1.9315]\n",
            "Wht hath to so kind the hath the rounds the contristances That and that that the dist and and he crome \n",
            "\n",
            "[286.27036237716675 (800 20%) 2.0646]\n",
            "Whts chow canter it stay it it is all thouse the soan a do shouse unce and his leat hastered a contrer \n",
            "\n",
            "[321.76818656921387 (900 22%) 1.9849]\n",
            "Whster my to mast then ento therees my susted for plours, not resces  Seathinest.  KING RICHARD III: T \n",
            "\n",
            "[357.32065176963806 (1000 25%) 1.8753]\n",
            "Whuence of comelous: I se priend shall to hath hirs the prainks of and if and shall no lear the poor f \n",
            "\n",
            "[392.48130202293396 (1100 27%) 1.9318]\n",
            "Whre his to seed and strake I am then couse And dease could shall soul strence a bories.  LUCESTIO: Th \n",
            "\n",
            "[427.6337890625 (1200 30%) 1.7861]\n",
            "Wh praints your wasch be what wellow aid a dear enter.  ROMELO: No my stand hame of not, the are the s \n",
            "\n",
            "[463.2118489742279 (1300 32%) 2.0240]\n",
            "Wht I candery dead of the kind and as hath make the lown, The for the care sil mead, and the wercain   \n",
            "\n",
            "[499.19456028938293 (1400 35%) 1.8677]\n",
            "Wht what will no li6e.  ROMEO: So heir with make hen your bord, what fortuent him, flient, The strom h \n",
            "\n",
            "[534.9666395187378 (1500 37%) 2.0523]\n",
            "Wh% let my betured in me she man a would it it as her here as in a prookJ Tchis lords my him in the pa \n",
            "\n",
            "[570.4939527511597 (1600 40%) 1.8742]\n",
            "Whre it, a father.  CAULETHA: But her parts the came of ender, conther.  GRESTER: I fath like the cour \n",
            "\n",
            "[606.0637559890747 (1700 42%) 1.9110]\n",
            "Whch of the warder the senct a sire And me.  KING HERNCENTO: And with my brows the sany the mimented A \n",
            "\n",
            "[641.5293545722961 (1800 45%) 1.9986]\n",
            "Whre your are to peself.  PETRUCHIO: I this had prooman the proppets, and word.  PETRUCHIO: Then here  \n",
            "\n",
            "[677.1380732059479 (1900 47%) 1.7315]\n",
            "Wht and the bathin and here, and with heartion of him ment may Hould shall be this is the struen forth \n",
            "\n",
            "[712.6024041175842 (2000 50%) 1.7975]\n",
            "Wht, Be the most to this for my son fall the coursely, And my so thou lords the come it maYes of the b \n",
            "\n",
            "[748.1748950481415 (2100 52%) 1.9230]\n",
            "Whre ence, the perower that do father house stare The come not prife a wear be perity you father me fo \n",
            "\n",
            "[783.8486018180847 (2200 55%) 2.0001]\n",
            "Whth and and with the rest, her for the here I their be so thou make the crother the weres for the wil \n",
            "\n",
            "[819.7325193881989 (2300 57%) 2.1036]\n",
            "Whch for hence.  LEONTES: And the part of the forted they will the fail.  DUKE O, the prance and not f \n",
            "\n",
            "[855.1781311035156 (2400 60%) 1.7455]\n",
            "Wht I would thou are of think.  CORIO: Thou sir, what my lord: no should but in hath his should him sh \n",
            "\n",
            "[890.714076757431 (2500 62%) 1.8753]\n",
            "Whnd him, and recous as I asser of my father, and my secution, my come.  ERCENIUS: I art by the with a \n",
            "\n",
            "[926.0801150798798 (2600 65%) 1.9161]\n",
            "Wht eyerer here in propers.  LUCENTIO: And my so my make they waters, and fare the fire, And my were d \n",
            "\n",
            "[961.6209754943848 (2700 67%) 1.8572]\n",
            "Whn a more perin; The hearrs do and my do stand his hail I had hear a could and he honess and from wee \n",
            "\n",
            "[997.0262041091919 (2800 70%) 1.5098]\n",
            "Whm here was with say thee stards, And duke thou ha` I had fathers In he wear to this oft the breather \n",
            "\n",
            "[1032.3258302211761 (2900 72%) 1.9502]\n",
            "Whch hear think.  PETRUCHIO: God the tone for their feent the suck, That you chire were hand since you \n",
            "\n",
            "[1067.8999724388123 (3000 75%) 1.8990]\n",
            "Whrence thinks to shall deed.  ROMEO: You had stand it.  MENENIUS: That must shall the mistrant and si \n",
            "\n",
            "[1103.2512454986572 (3100 77%) 1.8899]\n",
            "Wht warry my long the grow of good, More and to the bading of shen and the more, I he had my gracter h \n",
            "\n",
            "[1138.9374170303345 (3200 80%) 1.5102]\n",
            "Wh, the since in the kings to my lord.  DUKE O son, streath, benour here the prown word, And resce, li \n",
            "\n",
            "[1174.4886548519135 (3300 82%) 1.6907]\n",
            "Wht with not bring so from them that thee, To him thee shall not may a fair of your counting, )et the  \n",
            "\n",
            "[1209.7758843898773 (3400 85%) 1.9736]\n",
            "Whre banish your house that I will God your ebperel hold me time assing. so here and speaks of these s \n",
            "\n",
            "[1245.0680801868439 (3500 87%) 1.5097]\n",
            "Wht word not didon: My lord the first to his before they And that the gone the booth of you are the st \n",
            "\n",
            "[1280.5595779418945 (3600 90%) 1.9635]\n",
            "Wht that be  lors, sir, by then a stones in this dife.  MENENIUS: Their child morrers me and that York \n",
            "\n",
            "[1316.1951806545258 (3700 92%) 1.3932]\n",
            "Whch with here, And garder for the sits of the propousing That an him him for a dear seater and but be \n",
            "\n",
            "[1351.7454087734222 (3800 95%) 1.8380]\n",
            "Whre that wear her giers.  CLIcking.  LADY DUKE O, so in the would to his word them the world dost str \n",
            "\n",
            "[1386.94305062294 (3900 97%) 1.6579]\n",
            "Whrefore in harm and face The word in the been thing of them all to your for were To place of him and  \n",
            "\n",
            "[1422.3103227615356 (4000 100%) 2.0628]\n",
            "Wh, be must time, And he dearthy the heart hear me onMy of the pasting to bean, But both, come, by thy \n",
            "\n"
          ],
          "name": "stdout"
        }
      ]
    },
    {
      "cell_type": "code",
      "metadata": {
        "id": "Uzx2W74xyTpV",
        "colab_type": "code",
        "colab": {
          "base_uri": "https://localhost:8080/",
          "height": 295
        },
        "outputId": "ea34722d-9a76-4502-87e8-9e2c51af6434"
      },
      "source": [
        "import matplotlib.pyplot as plt\n",
        "\n",
        "plt.title('Shakespeare Loss')\n",
        "plt.xlabel('Epochs')\n",
        "plt.ylabel('Loss')\n",
        "plt.plot([i * plot_every for i in range(len(shake_all_losses))], shake_all_losses)\n",
        "plt.show()"
      ],
      "execution_count": 23,
      "outputs": [
        {
          "output_type": "display_data",
          "data": {
            "image/png": "[encoded data removed]",
            "text/plain": [
              "<Figure size 432x288 with 1 Axes>"
            ]
          },
          "metadata": {
            "tags": []
          }
        }
      ]
    },
    {
      "cell_type": "markdown",
      "metadata": {
        "id": "b-J2qKab67hj",
        "colab_type": "text"
      },
      "source": [
        "## Shakespeare Examples"
      ]
    },
    {
      "cell_type": "code",
      "metadata": {
        "id": "24bFwNviyERA",
        "colab_type": "code",
        "colab": {
          "base_uri": "https://localhost:8080/",
          "height": 557
        },
        "outputId": "0214f1bc-8826-45f1-e3c0-2f51737d4142"
      },
      "source": [
        "for i in range(10):\n",
        "  start_strings = [\" Th\", \" wh\", \" he\", \" I \", \" ca\", \" G\", \" lo\", \" ra\"]\n",
        "  start = random.randint(0,len(start_strings)-1)\n",
        "  print(start_strings[start])\n",
        "#   all_characters.index(string[c])\n",
        "  print(evaluate(start_strings[start], 200), '\\n')"
      ],
      "execution_count": 24,
      "outputs": [
        {
          "output_type": "stream",
          "text": [
            " ca\n",
            " canot it to rainst.  HENRY BOLINGART: But to gracious speak her heable me That my lord, I must if it wars nower.  GLOUCESTER: There dound his rest toushal ha/ry semseling him the wear2\tury.  Speen: I sh \n",
            "\n",
            " ca\n",
            " cases me goods not our trust Plight and proces and woman to prewour: Thou starible manglosely, but commanged.  RICHARD: No, so set three welkering to pertuches our looks, And her stain, appear to me awe \n",
            "\n",
            " G\n",
            " Geil say, consusing of the house 3i\"zen, Be made -a world beconsuly to bears as I his beances a sterain.  PETRUCHIO: And your your beding like that Let out, thou is not the miser, And it head, and rung \n",
            "\n",
            " lo\n",
            " lok at with Do tone me and you reads, Part thou are your had Grine throw me, when in the wears to make That part to millenderpelity opon The one you do seaten.  LUCIO: The, good blest in to me, appary.  \n",
            "\n",
            " ra\n",
            " raed to comporign.  PETRUCHIO: I would him is redius do good made To madise and of it instressured This discortal by what would towen your depared That such our wain that we ha_5 is must time That shar, \n",
            "\n",
            " G\n",
            " Gntleman: I had good know me, I come, her hast it well same to me: That at truinge to merein to may held son.  PETRUCHARELL: dos, I haR the better to is tony seeJ blood to them: I soulless you, send fo \n",
            "\n",
            " he\n",
            " heble foul his odes know the hand of your lord thou areming in me=ning of such me: And heady bloodZ&LI hood marcoused The beablour with that a primpess droshed In then warised their pince anding then.   \n",
            "\n",
            " G\n",
            " Gse is: the beary wembrity.  BISHER: It mather uncle secuntion: The hearts componted to be mothers it I depon are In to ditter her proson, and percesson, But this blity of his wared The partices had be \n",
            "\n",
            " I \n",
            " I ail double heir ways to me fliest ears of speet{end bock it mear/y.  Prompeful: I twill of heine shall it my fruth the honour to parted to must one hea: I home her well her and must bence bed their ma \n",
            "\n",
            " ca\n",
            " cae their such, In well and great in than my ore.  RICHARD: To all with hell, bes the haic, Some a may our send by healsE Thou forth the brother his fleshir3 me peacefulish ond make, thou Harcies The he \n",
            "\n"
          ],
          "name": "stdout"
        }
      ]
    },
    {
      "cell_type": "markdown",
      "metadata": {
        "id": "gkf6B8Fv0nPg",
        "colab_type": "text"
      },
      "source": [
        "## Evaluation\n",
        "\n",
        "My Model is doing pretty well at organizing general sentence structure. It's even doing fairly well with punctuation. On the shakespeare dataset, it is creating names (in all caps), followed by a colon to denote a person speaking. This is pretty impressive considering that we are only producing one character at a time.\n",
        "\n",
        "Although the model is doing fairly well at creating actual words, including some punctuation and general sentence structure, it isn't really producing coherent sentences. Maybe with enough training, we may be able to see better results. In addition, it tends to leave out letters in words directly after priming. For example:\n",
        "\n",
        "* G -> Gntleman\n",
        "\n",
        "* Wh -> Whrefore\n",
        "\n",
        "* Wh -> Whch\n",
        "\n",
        "The priming seems to work, but it's not perfect directly after priming. The model needs a little more \"warm-up\" before it produces better words and sentence structure."
      ]
    }
  ]
}